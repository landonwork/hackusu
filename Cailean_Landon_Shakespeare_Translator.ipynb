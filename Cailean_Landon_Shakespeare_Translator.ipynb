{
  "nbformat": 4,
  "nbformat_minor": 0,
  "metadata": {
    "colab": {
      "provenance": []
    },
    "kernelspec": {
      "name": "python3",
      "display_name": "Python 3"
    },
    "language_info": {
      "name": "python"
    },
    "accelerator": "GPU",
    "gpuClass": "standard",
    "widgets": {
      "application/vnd.jupyter.widget-state+json": {
        "93efe98a985c4b86a78ed2d63997796a": {
          "model_module": "@jupyter-widgets/controls",
          "model_name": "HBoxModel",
          "model_module_version": "1.5.0",
          "state": {
            "_dom_classes": [],
            "_model_module": "@jupyter-widgets/controls",
            "_model_module_version": "1.5.0",
            "_model_name": "HBoxModel",
            "_view_count": null,
            "_view_module": "@jupyter-widgets/controls",
            "_view_module_version": "1.5.0",
            "_view_name": "HBoxView",
            "box_style": "",
            "children": [
              "IPY_MODEL_a6b830fe37dc41c2b9341f791efaa1ed",
              "IPY_MODEL_a79bf0f1bd864dd8b9203c6933b4fdb8",
              "IPY_MODEL_0a68ef5f51634f89987a7eebd3337d1a"
            ],
            "layout": "IPY_MODEL_4330c3725aa04100a6c25ad6949c5341"
          }
        },
        "a6b830fe37dc41c2b9341f791efaa1ed": {
          "model_module": "@jupyter-widgets/controls",
          "model_name": "HTMLModel",
          "model_module_version": "1.5.0",
          "state": {
            "_dom_classes": [],
            "_model_module": "@jupyter-widgets/controls",
            "_model_module_version": "1.5.0",
            "_model_name": "HTMLModel",
            "_view_count": null,
            "_view_module": "@jupyter-widgets/controls",
            "_view_module_version": "1.5.0",
            "_view_name": "HTMLView",
            "description": "",
            "description_tooltip": null,
            "layout": "IPY_MODEL_694aa293b19a4f48a2d67d8ca57df3b2",
            "placeholder": "​",
            "style": "IPY_MODEL_53222c4b763d40d799461cb6da4e653f",
            "value": "Downloading (…)olve/main/vocab.json: 100%"
          }
        },
        "a79bf0f1bd864dd8b9203c6933b4fdb8": {
          "model_module": "@jupyter-widgets/controls",
          "model_name": "FloatProgressModel",
          "model_module_version": "1.5.0",
          "state": {
            "_dom_classes": [],
            "_model_module": "@jupyter-widgets/controls",
            "_model_module_version": "1.5.0",
            "_model_name": "FloatProgressModel",
            "_view_count": null,
            "_view_module": "@jupyter-widgets/controls",
            "_view_module_version": "1.5.0",
            "_view_name": "ProgressView",
            "bar_style": "success",
            "description": "",
            "description_tooltip": null,
            "layout": "IPY_MODEL_d3bc41c84da248fcaacc3ff8b0fc4953",
            "max": 1042301,
            "min": 0,
            "orientation": "horizontal",
            "style": "IPY_MODEL_919995de6fc94e16b06ca5d609cc3cc1",
            "value": 1042301
          }
        },
        "0a68ef5f51634f89987a7eebd3337d1a": {
          "model_module": "@jupyter-widgets/controls",
          "model_name": "HTMLModel",
          "model_module_version": "1.5.0",
          "state": {
            "_dom_classes": [],
            "_model_module": "@jupyter-widgets/controls",
            "_model_module_version": "1.5.0",
            "_model_name": "HTMLModel",
            "_view_count": null,
            "_view_module": "@jupyter-widgets/controls",
            "_view_module_version": "1.5.0",
            "_view_name": "HTMLView",
            "description": "",
            "description_tooltip": null,
            "layout": "IPY_MODEL_9773ad7722c44912b62cfade8169250a",
            "placeholder": "​",
            "style": "IPY_MODEL_c4fac4bebe25494588b6f97ca8461c91",
            "value": " 1.04M/1.04M [00:00&lt;00:00, 8.54MB/s]"
          }
        },
        "4330c3725aa04100a6c25ad6949c5341": {
          "model_module": "@jupyter-widgets/base",
          "model_name": "LayoutModel",
          "model_module_version": "1.2.0",
          "state": {
            "_model_module": "@jupyter-widgets/base",
            "_model_module_version": "1.2.0",
            "_model_name": "LayoutModel",
            "_view_count": null,
            "_view_module": "@jupyter-widgets/base",
            "_view_module_version": "1.2.0",
            "_view_name": "LayoutView",
            "align_content": null,
            "align_items": null,
            "align_self": null,
            "border": null,
            "bottom": null,
            "display": null,
            "flex": null,
            "flex_flow": null,
            "grid_area": null,
            "grid_auto_columns": null,
            "grid_auto_flow": null,
            "grid_auto_rows": null,
            "grid_column": null,
            "grid_gap": null,
            "grid_row": null,
            "grid_template_areas": null,
            "grid_template_columns": null,
            "grid_template_rows": null,
            "height": null,
            "justify_content": null,
            "justify_items": null,
            "left": null,
            "margin": null,
            "max_height": null,
            "max_width": null,
            "min_height": null,
            "min_width": null,
            "object_fit": null,
            "object_position": null,
            "order": null,
            "overflow": null,
            "overflow_x": null,
            "overflow_y": null,
            "padding": null,
            "right": null,
            "top": null,
            "visibility": null,
            "width": null
          }
        },
        "694aa293b19a4f48a2d67d8ca57df3b2": {
          "model_module": "@jupyter-widgets/base",
          "model_name": "LayoutModel",
          "model_module_version": "1.2.0",
          "state": {
            "_model_module": "@jupyter-widgets/base",
            "_model_module_version": "1.2.0",
            "_model_name": "LayoutModel",
            "_view_count": null,
            "_view_module": "@jupyter-widgets/base",
            "_view_module_version": "1.2.0",
            "_view_name": "LayoutView",
            "align_content": null,
            "align_items": null,
            "align_self": null,
            "border": null,
            "bottom": null,
            "display": null,
            "flex": null,
            "flex_flow": null,
            "grid_area": null,
            "grid_auto_columns": null,
            "grid_auto_flow": null,
            "grid_auto_rows": null,
            "grid_column": null,
            "grid_gap": null,
            "grid_row": null,
            "grid_template_areas": null,
            "grid_template_columns": null,
            "grid_template_rows": null,
            "height": null,
            "justify_content": null,
            "justify_items": null,
            "left": null,
            "margin": null,
            "max_height": null,
            "max_width": null,
            "min_height": null,
            "min_width": null,
            "object_fit": null,
            "object_position": null,
            "order": null,
            "overflow": null,
            "overflow_x": null,
            "overflow_y": null,
            "padding": null,
            "right": null,
            "top": null,
            "visibility": null,
            "width": null
          }
        },
        "53222c4b763d40d799461cb6da4e653f": {
          "model_module": "@jupyter-widgets/controls",
          "model_name": "DescriptionStyleModel",
          "model_module_version": "1.5.0",
          "state": {
            "_model_module": "@jupyter-widgets/controls",
            "_model_module_version": "1.5.0",
            "_model_name": "DescriptionStyleModel",
            "_view_count": null,
            "_view_module": "@jupyter-widgets/base",
            "_view_module_version": "1.2.0",
            "_view_name": "StyleView",
            "description_width": ""
          }
        },
        "d3bc41c84da248fcaacc3ff8b0fc4953": {
          "model_module": "@jupyter-widgets/base",
          "model_name": "LayoutModel",
          "model_module_version": "1.2.0",
          "state": {
            "_model_module": "@jupyter-widgets/base",
            "_model_module_version": "1.2.0",
            "_model_name": "LayoutModel",
            "_view_count": null,
            "_view_module": "@jupyter-widgets/base",
            "_view_module_version": "1.2.0",
            "_view_name": "LayoutView",
            "align_content": null,
            "align_items": null,
            "align_self": null,
            "border": null,
            "bottom": null,
            "display": null,
            "flex": null,
            "flex_flow": null,
            "grid_area": null,
            "grid_auto_columns": null,
            "grid_auto_flow": null,
            "grid_auto_rows": null,
            "grid_column": null,
            "grid_gap": null,
            "grid_row": null,
            "grid_template_areas": null,
            "grid_template_columns": null,
            "grid_template_rows": null,
            "height": null,
            "justify_content": null,
            "justify_items": null,
            "left": null,
            "margin": null,
            "max_height": null,
            "max_width": null,
            "min_height": null,
            "min_width": null,
            "object_fit": null,
            "object_position": null,
            "order": null,
            "overflow": null,
            "overflow_x": null,
            "overflow_y": null,
            "padding": null,
            "right": null,
            "top": null,
            "visibility": null,
            "width": null
          }
        },
        "919995de6fc94e16b06ca5d609cc3cc1": {
          "model_module": "@jupyter-widgets/controls",
          "model_name": "ProgressStyleModel",
          "model_module_version": "1.5.0",
          "state": {
            "_model_module": "@jupyter-widgets/controls",
            "_model_module_version": "1.5.0",
            "_model_name": "ProgressStyleModel",
            "_view_count": null,
            "_view_module": "@jupyter-widgets/base",
            "_view_module_version": "1.2.0",
            "_view_name": "StyleView",
            "bar_color": null,
            "description_width": ""
          }
        },
        "9773ad7722c44912b62cfade8169250a": {
          "model_module": "@jupyter-widgets/base",
          "model_name": "LayoutModel",
          "model_module_version": "1.2.0",
          "state": {
            "_model_module": "@jupyter-widgets/base",
            "_model_module_version": "1.2.0",
            "_model_name": "LayoutModel",
            "_view_count": null,
            "_view_module": "@jupyter-widgets/base",
            "_view_module_version": "1.2.0",
            "_view_name": "LayoutView",
            "align_content": null,
            "align_items": null,
            "align_self": null,
            "border": null,
            "bottom": null,
            "display": null,
            "flex": null,
            "flex_flow": null,
            "grid_area": null,
            "grid_auto_columns": null,
            "grid_auto_flow": null,
            "grid_auto_rows": null,
            "grid_column": null,
            "grid_gap": null,
            "grid_row": null,
            "grid_template_areas": null,
            "grid_template_columns": null,
            "grid_template_rows": null,
            "height": null,
            "justify_content": null,
            "justify_items": null,
            "left": null,
            "margin": null,
            "max_height": null,
            "max_width": null,
            "min_height": null,
            "min_width": null,
            "object_fit": null,
            "object_position": null,
            "order": null,
            "overflow": null,
            "overflow_x": null,
            "overflow_y": null,
            "padding": null,
            "right": null,
            "top": null,
            "visibility": null,
            "width": null
          }
        },
        "c4fac4bebe25494588b6f97ca8461c91": {
          "model_module": "@jupyter-widgets/controls",
          "model_name": "DescriptionStyleModel",
          "model_module_version": "1.5.0",
          "state": {
            "_model_module": "@jupyter-widgets/controls",
            "_model_module_version": "1.5.0",
            "_model_name": "DescriptionStyleModel",
            "_view_count": null,
            "_view_module": "@jupyter-widgets/base",
            "_view_module_version": "1.2.0",
            "_view_name": "StyleView",
            "description_width": ""
          }
        },
        "e0e6873ae71243b29c684e88dc51820d": {
          "model_module": "@jupyter-widgets/controls",
          "model_name": "HBoxModel",
          "model_module_version": "1.5.0",
          "state": {
            "_dom_classes": [],
            "_model_module": "@jupyter-widgets/controls",
            "_model_module_version": "1.5.0",
            "_model_name": "HBoxModel",
            "_view_count": null,
            "_view_module": "@jupyter-widgets/controls",
            "_view_module_version": "1.5.0",
            "_view_name": "HBoxView",
            "box_style": "",
            "children": [
              "IPY_MODEL_fee72145f7d4490ca65045c72d8aecf5",
              "IPY_MODEL_f38efa3cdd6d45fba24f8b68262dd4b5",
              "IPY_MODEL_67f39ab5635d4bc6837d4808ed5077d3"
            ],
            "layout": "IPY_MODEL_32340c96a6464d398f9ffb6d66c44a18"
          }
        },
        "fee72145f7d4490ca65045c72d8aecf5": {
          "model_module": "@jupyter-widgets/controls",
          "model_name": "HTMLModel",
          "model_module_version": "1.5.0",
          "state": {
            "_dom_classes": [],
            "_model_module": "@jupyter-widgets/controls",
            "_model_module_version": "1.5.0",
            "_model_name": "HTMLModel",
            "_view_count": null,
            "_view_module": "@jupyter-widgets/controls",
            "_view_module_version": "1.5.0",
            "_view_name": "HTMLView",
            "description": "",
            "description_tooltip": null,
            "layout": "IPY_MODEL_69b3f92a3aaf433cac81bc66d0f2ff19",
            "placeholder": "​",
            "style": "IPY_MODEL_b1d5cb3a5ca04a08969d1a593e50a94c",
            "value": "Downloading (…)olve/main/merges.txt: 100%"
          }
        },
        "f38efa3cdd6d45fba24f8b68262dd4b5": {
          "model_module": "@jupyter-widgets/controls",
          "model_name": "FloatProgressModel",
          "model_module_version": "1.5.0",
          "state": {
            "_dom_classes": [],
            "_model_module": "@jupyter-widgets/controls",
            "_model_module_version": "1.5.0",
            "_model_name": "FloatProgressModel",
            "_view_count": null,
            "_view_module": "@jupyter-widgets/controls",
            "_view_module_version": "1.5.0",
            "_view_name": "ProgressView",
            "bar_style": "success",
            "description": "",
            "description_tooltip": null,
            "layout": "IPY_MODEL_477491a03682476c818b0989f3e51e9c",
            "max": 456318,
            "min": 0,
            "orientation": "horizontal",
            "style": "IPY_MODEL_c6d51cfa65304586874c767b55d041aa",
            "value": 456318
          }
        },
        "67f39ab5635d4bc6837d4808ed5077d3": {
          "model_module": "@jupyter-widgets/controls",
          "model_name": "HTMLModel",
          "model_module_version": "1.5.0",
          "state": {
            "_dom_classes": [],
            "_model_module": "@jupyter-widgets/controls",
            "_model_module_version": "1.5.0",
            "_model_name": "HTMLModel",
            "_view_count": null,
            "_view_module": "@jupyter-widgets/controls",
            "_view_module_version": "1.5.0",
            "_view_name": "HTMLView",
            "description": "",
            "description_tooltip": null,
            "layout": "IPY_MODEL_637ace2fc384405ab26fe59160b34ac7",
            "placeholder": "​",
            "style": "IPY_MODEL_fb6b29d383294ae98805f12d534ccd27",
            "value": " 456k/456k [00:00&lt;00:00, 4.58MB/s]"
          }
        },
        "32340c96a6464d398f9ffb6d66c44a18": {
          "model_module": "@jupyter-widgets/base",
          "model_name": "LayoutModel",
          "model_module_version": "1.2.0",
          "state": {
            "_model_module": "@jupyter-widgets/base",
            "_model_module_version": "1.2.0",
            "_model_name": "LayoutModel",
            "_view_count": null,
            "_view_module": "@jupyter-widgets/base",
            "_view_module_version": "1.2.0",
            "_view_name": "LayoutView",
            "align_content": null,
            "align_items": null,
            "align_self": null,
            "border": null,
            "bottom": null,
            "display": null,
            "flex": null,
            "flex_flow": null,
            "grid_area": null,
            "grid_auto_columns": null,
            "grid_auto_flow": null,
            "grid_auto_rows": null,
            "grid_column": null,
            "grid_gap": null,
            "grid_row": null,
            "grid_template_areas": null,
            "grid_template_columns": null,
            "grid_template_rows": null,
            "height": null,
            "justify_content": null,
            "justify_items": null,
            "left": null,
            "margin": null,
            "max_height": null,
            "max_width": null,
            "min_height": null,
            "min_width": null,
            "object_fit": null,
            "object_position": null,
            "order": null,
            "overflow": null,
            "overflow_x": null,
            "overflow_y": null,
            "padding": null,
            "right": null,
            "top": null,
            "visibility": null,
            "width": null
          }
        },
        "69b3f92a3aaf433cac81bc66d0f2ff19": {
          "model_module": "@jupyter-widgets/base",
          "model_name": "LayoutModel",
          "model_module_version": "1.2.0",
          "state": {
            "_model_module": "@jupyter-widgets/base",
            "_model_module_version": "1.2.0",
            "_model_name": "LayoutModel",
            "_view_count": null,
            "_view_module": "@jupyter-widgets/base",
            "_view_module_version": "1.2.0",
            "_view_name": "LayoutView",
            "align_content": null,
            "align_items": null,
            "align_self": null,
            "border": null,
            "bottom": null,
            "display": null,
            "flex": null,
            "flex_flow": null,
            "grid_area": null,
            "grid_auto_columns": null,
            "grid_auto_flow": null,
            "grid_auto_rows": null,
            "grid_column": null,
            "grid_gap": null,
            "grid_row": null,
            "grid_template_areas": null,
            "grid_template_columns": null,
            "grid_template_rows": null,
            "height": null,
            "justify_content": null,
            "justify_items": null,
            "left": null,
            "margin": null,
            "max_height": null,
            "max_width": null,
            "min_height": null,
            "min_width": null,
            "object_fit": null,
            "object_position": null,
            "order": null,
            "overflow": null,
            "overflow_x": null,
            "overflow_y": null,
            "padding": null,
            "right": null,
            "top": null,
            "visibility": null,
            "width": null
          }
        },
        "b1d5cb3a5ca04a08969d1a593e50a94c": {
          "model_module": "@jupyter-widgets/controls",
          "model_name": "DescriptionStyleModel",
          "model_module_version": "1.5.0",
          "state": {
            "_model_module": "@jupyter-widgets/controls",
            "_model_module_version": "1.5.0",
            "_model_name": "DescriptionStyleModel",
            "_view_count": null,
            "_view_module": "@jupyter-widgets/base",
            "_view_module_version": "1.2.0",
            "_view_name": "StyleView",
            "description_width": ""
          }
        },
        "477491a03682476c818b0989f3e51e9c": {
          "model_module": "@jupyter-widgets/base",
          "model_name": "LayoutModel",
          "model_module_version": "1.2.0",
          "state": {
            "_model_module": "@jupyter-widgets/base",
            "_model_module_version": "1.2.0",
            "_model_name": "LayoutModel",
            "_view_count": null,
            "_view_module": "@jupyter-widgets/base",
            "_view_module_version": "1.2.0",
            "_view_name": "LayoutView",
            "align_content": null,
            "align_items": null,
            "align_self": null,
            "border": null,
            "bottom": null,
            "display": null,
            "flex": null,
            "flex_flow": null,
            "grid_area": null,
            "grid_auto_columns": null,
            "grid_auto_flow": null,
            "grid_auto_rows": null,
            "grid_column": null,
            "grid_gap": null,
            "grid_row": null,
            "grid_template_areas": null,
            "grid_template_columns": null,
            "grid_template_rows": null,
            "height": null,
            "justify_content": null,
            "justify_items": null,
            "left": null,
            "margin": null,
            "max_height": null,
            "max_width": null,
            "min_height": null,
            "min_width": null,
            "object_fit": null,
            "object_position": null,
            "order": null,
            "overflow": null,
            "overflow_x": null,
            "overflow_y": null,
            "padding": null,
            "right": null,
            "top": null,
            "visibility": null,
            "width": null
          }
        },
        "c6d51cfa65304586874c767b55d041aa": {
          "model_module": "@jupyter-widgets/controls",
          "model_name": "ProgressStyleModel",
          "model_module_version": "1.5.0",
          "state": {
            "_model_module": "@jupyter-widgets/controls",
            "_model_module_version": "1.5.0",
            "_model_name": "ProgressStyleModel",
            "_view_count": null,
            "_view_module": "@jupyter-widgets/base",
            "_view_module_version": "1.2.0",
            "_view_name": "StyleView",
            "bar_color": null,
            "description_width": ""
          }
        },
        "637ace2fc384405ab26fe59160b34ac7": {
          "model_module": "@jupyter-widgets/base",
          "model_name": "LayoutModel",
          "model_module_version": "1.2.0",
          "state": {
            "_model_module": "@jupyter-widgets/base",
            "_model_module_version": "1.2.0",
            "_model_name": "LayoutModel",
            "_view_count": null,
            "_view_module": "@jupyter-widgets/base",
            "_view_module_version": "1.2.0",
            "_view_name": "LayoutView",
            "align_content": null,
            "align_items": null,
            "align_self": null,
            "border": null,
            "bottom": null,
            "display": null,
            "flex": null,
            "flex_flow": null,
            "grid_area": null,
            "grid_auto_columns": null,
            "grid_auto_flow": null,
            "grid_auto_rows": null,
            "grid_column": null,
            "grid_gap": null,
            "grid_row": null,
            "grid_template_areas": null,
            "grid_template_columns": null,
            "grid_template_rows": null,
            "height": null,
            "justify_content": null,
            "justify_items": null,
            "left": null,
            "margin": null,
            "max_height": null,
            "max_width": null,
            "min_height": null,
            "min_width": null,
            "object_fit": null,
            "object_position": null,
            "order": null,
            "overflow": null,
            "overflow_x": null,
            "overflow_y": null,
            "padding": null,
            "right": null,
            "top": null,
            "visibility": null,
            "width": null
          }
        },
        "fb6b29d383294ae98805f12d534ccd27": {
          "model_module": "@jupyter-widgets/controls",
          "model_name": "DescriptionStyleModel",
          "model_module_version": "1.5.0",
          "state": {
            "_model_module": "@jupyter-widgets/controls",
            "_model_module_version": "1.5.0",
            "_model_name": "DescriptionStyleModel",
            "_view_count": null,
            "_view_module": "@jupyter-widgets/base",
            "_view_module_version": "1.2.0",
            "_view_name": "StyleView",
            "description_width": ""
          }
        },
        "381574d24ce44541af5df94f2ce977a0": {
          "model_module": "@jupyter-widgets/controls",
          "model_name": "HBoxModel",
          "model_module_version": "1.5.0",
          "state": {
            "_dom_classes": [],
            "_model_module": "@jupyter-widgets/controls",
            "_model_module_version": "1.5.0",
            "_model_name": "HBoxModel",
            "_view_count": null,
            "_view_module": "@jupyter-widgets/controls",
            "_view_module_version": "1.5.0",
            "_view_name": "HBoxView",
            "box_style": "",
            "children": [
              "IPY_MODEL_39def029bcaf4ccebbcf93ab96b2c0a4",
              "IPY_MODEL_8142979c04b1400abf37657cac7eb0f7",
              "IPY_MODEL_af1799f8cb124a0cac22f8e1f37183d2"
            ],
            "layout": "IPY_MODEL_78609237c6e44c16bf28902188531618"
          }
        },
        "39def029bcaf4ccebbcf93ab96b2c0a4": {
          "model_module": "@jupyter-widgets/controls",
          "model_name": "HTMLModel",
          "model_module_version": "1.5.0",
          "state": {
            "_dom_classes": [],
            "_model_module": "@jupyter-widgets/controls",
            "_model_module_version": "1.5.0",
            "_model_name": "HTMLModel",
            "_view_count": null,
            "_view_module": "@jupyter-widgets/controls",
            "_view_module_version": "1.5.0",
            "_view_name": "HTMLView",
            "description": "",
            "description_tooltip": null,
            "layout": "IPY_MODEL_c9fa6b0692314046b067360b293bc8f1",
            "placeholder": "​",
            "style": "IPY_MODEL_16d22e253e5c40b38fed0071307924a5",
            "value": "Downloading (…)lve/main/config.json: 100%"
          }
        },
        "8142979c04b1400abf37657cac7eb0f7": {
          "model_module": "@jupyter-widgets/controls",
          "model_name": "FloatProgressModel",
          "model_module_version": "1.5.0",
          "state": {
            "_dom_classes": [],
            "_model_module": "@jupyter-widgets/controls",
            "_model_module_version": "1.5.0",
            "_model_name": "FloatProgressModel",
            "_view_count": null,
            "_view_module": "@jupyter-widgets/controls",
            "_view_module_version": "1.5.0",
            "_view_name": "ProgressView",
            "bar_style": "success",
            "description": "",
            "description_tooltip": null,
            "layout": "IPY_MODEL_42952b618d6a46a3822b4b22e7ea3af0",
            "max": 665,
            "min": 0,
            "orientation": "horizontal",
            "style": "IPY_MODEL_97ddc8b8d7644770ad74eb40fdf47043",
            "value": 665
          }
        },
        "af1799f8cb124a0cac22f8e1f37183d2": {
          "model_module": "@jupyter-widgets/controls",
          "model_name": "HTMLModel",
          "model_module_version": "1.5.0",
          "state": {
            "_dom_classes": [],
            "_model_module": "@jupyter-widgets/controls",
            "_model_module_version": "1.5.0",
            "_model_name": "HTMLModel",
            "_view_count": null,
            "_view_module": "@jupyter-widgets/controls",
            "_view_module_version": "1.5.0",
            "_view_name": "HTMLView",
            "description": "",
            "description_tooltip": null,
            "layout": "IPY_MODEL_21750361b5bf47f8a7fd4194107de59f",
            "placeholder": "​",
            "style": "IPY_MODEL_eea1fdd15a47496198983d7b0d67171e",
            "value": " 665/665 [00:00&lt;00:00, 32.6kB/s]"
          }
        },
        "78609237c6e44c16bf28902188531618": {
          "model_module": "@jupyter-widgets/base",
          "model_name": "LayoutModel",
          "model_module_version": "1.2.0",
          "state": {
            "_model_module": "@jupyter-widgets/base",
            "_model_module_version": "1.2.0",
            "_model_name": "LayoutModel",
            "_view_count": null,
            "_view_module": "@jupyter-widgets/base",
            "_view_module_version": "1.2.0",
            "_view_name": "LayoutView",
            "align_content": null,
            "align_items": null,
            "align_self": null,
            "border": null,
            "bottom": null,
            "display": null,
            "flex": null,
            "flex_flow": null,
            "grid_area": null,
            "grid_auto_columns": null,
            "grid_auto_flow": null,
            "grid_auto_rows": null,
            "grid_column": null,
            "grid_gap": null,
            "grid_row": null,
            "grid_template_areas": null,
            "grid_template_columns": null,
            "grid_template_rows": null,
            "height": null,
            "justify_content": null,
            "justify_items": null,
            "left": null,
            "margin": null,
            "max_height": null,
            "max_width": null,
            "min_height": null,
            "min_width": null,
            "object_fit": null,
            "object_position": null,
            "order": null,
            "overflow": null,
            "overflow_x": null,
            "overflow_y": null,
            "padding": null,
            "right": null,
            "top": null,
            "visibility": null,
            "width": null
          }
        },
        "c9fa6b0692314046b067360b293bc8f1": {
          "model_module": "@jupyter-widgets/base",
          "model_name": "LayoutModel",
          "model_module_version": "1.2.0",
          "state": {
            "_model_module": "@jupyter-widgets/base",
            "_model_module_version": "1.2.0",
            "_model_name": "LayoutModel",
            "_view_count": null,
            "_view_module": "@jupyter-widgets/base",
            "_view_module_version": "1.2.0",
            "_view_name": "LayoutView",
            "align_content": null,
            "align_items": null,
            "align_self": null,
            "border": null,
            "bottom": null,
            "display": null,
            "flex": null,
            "flex_flow": null,
            "grid_area": null,
            "grid_auto_columns": null,
            "grid_auto_flow": null,
            "grid_auto_rows": null,
            "grid_column": null,
            "grid_gap": null,
            "grid_row": null,
            "grid_template_areas": null,
            "grid_template_columns": null,
            "grid_template_rows": null,
            "height": null,
            "justify_content": null,
            "justify_items": null,
            "left": null,
            "margin": null,
            "max_height": null,
            "max_width": null,
            "min_height": null,
            "min_width": null,
            "object_fit": null,
            "object_position": null,
            "order": null,
            "overflow": null,
            "overflow_x": null,
            "overflow_y": null,
            "padding": null,
            "right": null,
            "top": null,
            "visibility": null,
            "width": null
          }
        },
        "16d22e253e5c40b38fed0071307924a5": {
          "model_module": "@jupyter-widgets/controls",
          "model_name": "DescriptionStyleModel",
          "model_module_version": "1.5.0",
          "state": {
            "_model_module": "@jupyter-widgets/controls",
            "_model_module_version": "1.5.0",
            "_model_name": "DescriptionStyleModel",
            "_view_count": null,
            "_view_module": "@jupyter-widgets/base",
            "_view_module_version": "1.2.0",
            "_view_name": "StyleView",
            "description_width": ""
          }
        },
        "42952b618d6a46a3822b4b22e7ea3af0": {
          "model_module": "@jupyter-widgets/base",
          "model_name": "LayoutModel",
          "model_module_version": "1.2.0",
          "state": {
            "_model_module": "@jupyter-widgets/base",
            "_model_module_version": "1.2.0",
            "_model_name": "LayoutModel",
            "_view_count": null,
            "_view_module": "@jupyter-widgets/base",
            "_view_module_version": "1.2.0",
            "_view_name": "LayoutView",
            "align_content": null,
            "align_items": null,
            "align_self": null,
            "border": null,
            "bottom": null,
            "display": null,
            "flex": null,
            "flex_flow": null,
            "grid_area": null,
            "grid_auto_columns": null,
            "grid_auto_flow": null,
            "grid_auto_rows": null,
            "grid_column": null,
            "grid_gap": null,
            "grid_row": null,
            "grid_template_areas": null,
            "grid_template_columns": null,
            "grid_template_rows": null,
            "height": null,
            "justify_content": null,
            "justify_items": null,
            "left": null,
            "margin": null,
            "max_height": null,
            "max_width": null,
            "min_height": null,
            "min_width": null,
            "object_fit": null,
            "object_position": null,
            "order": null,
            "overflow": null,
            "overflow_x": null,
            "overflow_y": null,
            "padding": null,
            "right": null,
            "top": null,
            "visibility": null,
            "width": null
          }
        },
        "97ddc8b8d7644770ad74eb40fdf47043": {
          "model_module": "@jupyter-widgets/controls",
          "model_name": "ProgressStyleModel",
          "model_module_version": "1.5.0",
          "state": {
            "_model_module": "@jupyter-widgets/controls",
            "_model_module_version": "1.5.0",
            "_model_name": "ProgressStyleModel",
            "_view_count": null,
            "_view_module": "@jupyter-widgets/base",
            "_view_module_version": "1.2.0",
            "_view_name": "StyleView",
            "bar_color": null,
            "description_width": ""
          }
        },
        "21750361b5bf47f8a7fd4194107de59f": {
          "model_module": "@jupyter-widgets/base",
          "model_name": "LayoutModel",
          "model_module_version": "1.2.0",
          "state": {
            "_model_module": "@jupyter-widgets/base",
            "_model_module_version": "1.2.0",
            "_model_name": "LayoutModel",
            "_view_count": null,
            "_view_module": "@jupyter-widgets/base",
            "_view_module_version": "1.2.0",
            "_view_name": "LayoutView",
            "align_content": null,
            "align_items": null,
            "align_self": null,
            "border": null,
            "bottom": null,
            "display": null,
            "flex": null,
            "flex_flow": null,
            "grid_area": null,
            "grid_auto_columns": null,
            "grid_auto_flow": null,
            "grid_auto_rows": null,
            "grid_column": null,
            "grid_gap": null,
            "grid_row": null,
            "grid_template_areas": null,
            "grid_template_columns": null,
            "grid_template_rows": null,
            "height": null,
            "justify_content": null,
            "justify_items": null,
            "left": null,
            "margin": null,
            "max_height": null,
            "max_width": null,
            "min_height": null,
            "min_width": null,
            "object_fit": null,
            "object_position": null,
            "order": null,
            "overflow": null,
            "overflow_x": null,
            "overflow_y": null,
            "padding": null,
            "right": null,
            "top": null,
            "visibility": null,
            "width": null
          }
        },
        "eea1fdd15a47496198983d7b0d67171e": {
          "model_module": "@jupyter-widgets/controls",
          "model_name": "DescriptionStyleModel",
          "model_module_version": "1.5.0",
          "state": {
            "_model_module": "@jupyter-widgets/controls",
            "_model_module_version": "1.5.0",
            "_model_name": "DescriptionStyleModel",
            "_view_count": null,
            "_view_module": "@jupyter-widgets/base",
            "_view_module_version": "1.2.0",
            "_view_name": "StyleView",
            "description_width": ""
          }
        },
        "f5d569eb1dc04dbfb15f61b46c434103": {
          "model_module": "@jupyter-widgets/controls",
          "model_name": "HBoxModel",
          "model_module_version": "1.5.0",
          "state": {
            "_dom_classes": [],
            "_model_module": "@jupyter-widgets/controls",
            "_model_module_version": "1.5.0",
            "_model_name": "HBoxModel",
            "_view_count": null,
            "_view_module": "@jupyter-widgets/controls",
            "_view_module_version": "1.5.0",
            "_view_name": "HBoxView",
            "box_style": "",
            "children": [
              "IPY_MODEL_ef2f59b4586e4daa8e9e46beee5f8319",
              "IPY_MODEL_2fc50c778ac740ccb7c36928e7ea488b",
              "IPY_MODEL_331043a43b5348fb9919a67e7bc2030f"
            ],
            "layout": "IPY_MODEL_3f64f40f1d9a471586c09ba0b019d925"
          }
        },
        "ef2f59b4586e4daa8e9e46beee5f8319": {
          "model_module": "@jupyter-widgets/controls",
          "model_name": "HTMLModel",
          "model_module_version": "1.5.0",
          "state": {
            "_dom_classes": [],
            "_model_module": "@jupyter-widgets/controls",
            "_model_module_version": "1.5.0",
            "_model_name": "HTMLModel",
            "_view_count": null,
            "_view_module": "@jupyter-widgets/controls",
            "_view_module_version": "1.5.0",
            "_view_name": "HTMLView",
            "description": "",
            "description_tooltip": null,
            "layout": "IPY_MODEL_6c0da117e28c45cea5444e04919c7b49",
            "placeholder": "​",
            "style": "IPY_MODEL_0950d14d55fd4ae8b454b823817e268b",
            "value": "Downloading pytorch_model.bin: 100%"
          }
        },
        "2fc50c778ac740ccb7c36928e7ea488b": {
          "model_module": "@jupyter-widgets/controls",
          "model_name": "FloatProgressModel",
          "model_module_version": "1.5.0",
          "state": {
            "_dom_classes": [],
            "_model_module": "@jupyter-widgets/controls",
            "_model_module_version": "1.5.0",
            "_model_name": "FloatProgressModel",
            "_view_count": null,
            "_view_module": "@jupyter-widgets/controls",
            "_view_module_version": "1.5.0",
            "_view_name": "ProgressView",
            "bar_style": "success",
            "description": "",
            "description_tooltip": null,
            "layout": "IPY_MODEL_2158ff95d031499b8f1a5fc6148a72a6",
            "max": 548118077,
            "min": 0,
            "orientation": "horizontal",
            "style": "IPY_MODEL_1c675278affd43f28547a8af91e65be4",
            "value": 548118077
          }
        },
        "331043a43b5348fb9919a67e7bc2030f": {
          "model_module": "@jupyter-widgets/controls",
          "model_name": "HTMLModel",
          "model_module_version": "1.5.0",
          "state": {
            "_dom_classes": [],
            "_model_module": "@jupyter-widgets/controls",
            "_model_module_version": "1.5.0",
            "_model_name": "HTMLModel",
            "_view_count": null,
            "_view_module": "@jupyter-widgets/controls",
            "_view_module_version": "1.5.0",
            "_view_name": "HTMLView",
            "description": "",
            "description_tooltip": null,
            "layout": "IPY_MODEL_e3747064cc404884b07a12ea5253b2b8",
            "placeholder": "​",
            "style": "IPY_MODEL_cafa7061d5504d32b2d0f783aa903402",
            "value": " 548M/548M [00:04&lt;00:00, 133MB/s]"
          }
        },
        "3f64f40f1d9a471586c09ba0b019d925": {
          "model_module": "@jupyter-widgets/base",
          "model_name": "LayoutModel",
          "model_module_version": "1.2.0",
          "state": {
            "_model_module": "@jupyter-widgets/base",
            "_model_module_version": "1.2.0",
            "_model_name": "LayoutModel",
            "_view_count": null,
            "_view_module": "@jupyter-widgets/base",
            "_view_module_version": "1.2.0",
            "_view_name": "LayoutView",
            "align_content": null,
            "align_items": null,
            "align_self": null,
            "border": null,
            "bottom": null,
            "display": null,
            "flex": null,
            "flex_flow": null,
            "grid_area": null,
            "grid_auto_columns": null,
            "grid_auto_flow": null,
            "grid_auto_rows": null,
            "grid_column": null,
            "grid_gap": null,
            "grid_row": null,
            "grid_template_areas": null,
            "grid_template_columns": null,
            "grid_template_rows": null,
            "height": null,
            "justify_content": null,
            "justify_items": null,
            "left": null,
            "margin": null,
            "max_height": null,
            "max_width": null,
            "min_height": null,
            "min_width": null,
            "object_fit": null,
            "object_position": null,
            "order": null,
            "overflow": null,
            "overflow_x": null,
            "overflow_y": null,
            "padding": null,
            "right": null,
            "top": null,
            "visibility": null,
            "width": null
          }
        },
        "6c0da117e28c45cea5444e04919c7b49": {
          "model_module": "@jupyter-widgets/base",
          "model_name": "LayoutModel",
          "model_module_version": "1.2.0",
          "state": {
            "_model_module": "@jupyter-widgets/base",
            "_model_module_version": "1.2.0",
            "_model_name": "LayoutModel",
            "_view_count": null,
            "_view_module": "@jupyter-widgets/base",
            "_view_module_version": "1.2.0",
            "_view_name": "LayoutView",
            "align_content": null,
            "align_items": null,
            "align_self": null,
            "border": null,
            "bottom": null,
            "display": null,
            "flex": null,
            "flex_flow": null,
            "grid_area": null,
            "grid_auto_columns": null,
            "grid_auto_flow": null,
            "grid_auto_rows": null,
            "grid_column": null,
            "grid_gap": null,
            "grid_row": null,
            "grid_template_areas": null,
            "grid_template_columns": null,
            "grid_template_rows": null,
            "height": null,
            "justify_content": null,
            "justify_items": null,
            "left": null,
            "margin": null,
            "max_height": null,
            "max_width": null,
            "min_height": null,
            "min_width": null,
            "object_fit": null,
            "object_position": null,
            "order": null,
            "overflow": null,
            "overflow_x": null,
            "overflow_y": null,
            "padding": null,
            "right": null,
            "top": null,
            "visibility": null,
            "width": null
          }
        },
        "0950d14d55fd4ae8b454b823817e268b": {
          "model_module": "@jupyter-widgets/controls",
          "model_name": "DescriptionStyleModel",
          "model_module_version": "1.5.0",
          "state": {
            "_model_module": "@jupyter-widgets/controls",
            "_model_module_version": "1.5.0",
            "_model_name": "DescriptionStyleModel",
            "_view_count": null,
            "_view_module": "@jupyter-widgets/base",
            "_view_module_version": "1.2.0",
            "_view_name": "StyleView",
            "description_width": ""
          }
        },
        "2158ff95d031499b8f1a5fc6148a72a6": {
          "model_module": "@jupyter-widgets/base",
          "model_name": "LayoutModel",
          "model_module_version": "1.2.0",
          "state": {
            "_model_module": "@jupyter-widgets/base",
            "_model_module_version": "1.2.0",
            "_model_name": "LayoutModel",
            "_view_count": null,
            "_view_module": "@jupyter-widgets/base",
            "_view_module_version": "1.2.0",
            "_view_name": "LayoutView",
            "align_content": null,
            "align_items": null,
            "align_self": null,
            "border": null,
            "bottom": null,
            "display": null,
            "flex": null,
            "flex_flow": null,
            "grid_area": null,
            "grid_auto_columns": null,
            "grid_auto_flow": null,
            "grid_auto_rows": null,
            "grid_column": null,
            "grid_gap": null,
            "grid_row": null,
            "grid_template_areas": null,
            "grid_template_columns": null,
            "grid_template_rows": null,
            "height": null,
            "justify_content": null,
            "justify_items": null,
            "left": null,
            "margin": null,
            "max_height": null,
            "max_width": null,
            "min_height": null,
            "min_width": null,
            "object_fit": null,
            "object_position": null,
            "order": null,
            "overflow": null,
            "overflow_x": null,
            "overflow_y": null,
            "padding": null,
            "right": null,
            "top": null,
            "visibility": null,
            "width": null
          }
        },
        "1c675278affd43f28547a8af91e65be4": {
          "model_module": "@jupyter-widgets/controls",
          "model_name": "ProgressStyleModel",
          "model_module_version": "1.5.0",
          "state": {
            "_model_module": "@jupyter-widgets/controls",
            "_model_module_version": "1.5.0",
            "_model_name": "ProgressStyleModel",
            "_view_count": null,
            "_view_module": "@jupyter-widgets/base",
            "_view_module_version": "1.2.0",
            "_view_name": "StyleView",
            "bar_color": null,
            "description_width": ""
          }
        },
        "e3747064cc404884b07a12ea5253b2b8": {
          "model_module": "@jupyter-widgets/base",
          "model_name": "LayoutModel",
          "model_module_version": "1.2.0",
          "state": {
            "_model_module": "@jupyter-widgets/base",
            "_model_module_version": "1.2.0",
            "_model_name": "LayoutModel",
            "_view_count": null,
            "_view_module": "@jupyter-widgets/base",
            "_view_module_version": "1.2.0",
            "_view_name": "LayoutView",
            "align_content": null,
            "align_items": null,
            "align_self": null,
            "border": null,
            "bottom": null,
            "display": null,
            "flex": null,
            "flex_flow": null,
            "grid_area": null,
            "grid_auto_columns": null,
            "grid_auto_flow": null,
            "grid_auto_rows": null,
            "grid_column": null,
            "grid_gap": null,
            "grid_row": null,
            "grid_template_areas": null,
            "grid_template_columns": null,
            "grid_template_rows": null,
            "height": null,
            "justify_content": null,
            "justify_items": null,
            "left": null,
            "margin": null,
            "max_height": null,
            "max_width": null,
            "min_height": null,
            "min_width": null,
            "object_fit": null,
            "object_position": null,
            "order": null,
            "overflow": null,
            "overflow_x": null,
            "overflow_y": null,
            "padding": null,
            "right": null,
            "top": null,
            "visibility": null,
            "width": null
          }
        },
        "cafa7061d5504d32b2d0f783aa903402": {
          "model_module": "@jupyter-widgets/controls",
          "model_name": "DescriptionStyleModel",
          "model_module_version": "1.5.0",
          "state": {
            "_model_module": "@jupyter-widgets/controls",
            "_model_module_version": "1.5.0",
            "_model_name": "DescriptionStyleModel",
            "_view_count": null,
            "_view_module": "@jupyter-widgets/base",
            "_view_module_version": "1.2.0",
            "_view_name": "StyleView",
            "description_width": ""
          }
        },
        "11d64cbe4279423bab06bf295f912621": {
          "model_module": "@jupyter-widgets/controls",
          "model_name": "HBoxModel",
          "model_module_version": "1.5.0",
          "state": {
            "_dom_classes": [],
            "_model_module": "@jupyter-widgets/controls",
            "_model_module_version": "1.5.0",
            "_model_name": "HBoxModel",
            "_view_count": null,
            "_view_module": "@jupyter-widgets/controls",
            "_view_module_version": "1.5.0",
            "_view_name": "HBoxView",
            "box_style": "",
            "children": [
              "IPY_MODEL_c4f721deafa443fb96bf9333333bb06c",
              "IPY_MODEL_3690880cf65c41cdb54a3031b3c8ab53",
              "IPY_MODEL_14d1371d60fe41a3809094ada3c2d987"
            ],
            "layout": "IPY_MODEL_54c17450e4d3471c8e9866dd783aaf93"
          }
        },
        "c4f721deafa443fb96bf9333333bb06c": {
          "model_module": "@jupyter-widgets/controls",
          "model_name": "HTMLModel",
          "model_module_version": "1.5.0",
          "state": {
            "_dom_classes": [],
            "_model_module": "@jupyter-widgets/controls",
            "_model_module_version": "1.5.0",
            "_model_name": "HTMLModel",
            "_view_count": null,
            "_view_module": "@jupyter-widgets/controls",
            "_view_module_version": "1.5.0",
            "_view_name": "HTMLView",
            "description": "",
            "description_tooltip": null,
            "layout": "IPY_MODEL_6983e475137042eb918829ad689bf1a3",
            "placeholder": "​",
            "style": "IPY_MODEL_97d378a5001d4eb089a1ffe953598202",
            "value": "Downloading (…)neration_config.json: 100%"
          }
        },
        "3690880cf65c41cdb54a3031b3c8ab53": {
          "model_module": "@jupyter-widgets/controls",
          "model_name": "FloatProgressModel",
          "model_module_version": "1.5.0",
          "state": {
            "_dom_classes": [],
            "_model_module": "@jupyter-widgets/controls",
            "_model_module_version": "1.5.0",
            "_model_name": "FloatProgressModel",
            "_view_count": null,
            "_view_module": "@jupyter-widgets/controls",
            "_view_module_version": "1.5.0",
            "_view_name": "ProgressView",
            "bar_style": "success",
            "description": "",
            "description_tooltip": null,
            "layout": "IPY_MODEL_a0ad9b0ec1124594addcc7a3dca2df6a",
            "max": 124,
            "min": 0,
            "orientation": "horizontal",
            "style": "IPY_MODEL_651cc4e644c2493c91223046641fc6b5",
            "value": 124
          }
        },
        "14d1371d60fe41a3809094ada3c2d987": {
          "model_module": "@jupyter-widgets/controls",
          "model_name": "HTMLModel",
          "model_module_version": "1.5.0",
          "state": {
            "_dom_classes": [],
            "_model_module": "@jupyter-widgets/controls",
            "_model_module_version": "1.5.0",
            "_model_name": "HTMLModel",
            "_view_count": null,
            "_view_module": "@jupyter-widgets/controls",
            "_view_module_version": "1.5.0",
            "_view_name": "HTMLView",
            "description": "",
            "description_tooltip": null,
            "layout": "IPY_MODEL_f5057a0ef2474578a49ee8f05bc5aafa",
            "placeholder": "​",
            "style": "IPY_MODEL_5e91237d468d40808f8f4913e42793d8",
            "value": " 124/124 [00:00&lt;00:00, 4.68kB/s]"
          }
        },
        "54c17450e4d3471c8e9866dd783aaf93": {
          "model_module": "@jupyter-widgets/base",
          "model_name": "LayoutModel",
          "model_module_version": "1.2.0",
          "state": {
            "_model_module": "@jupyter-widgets/base",
            "_model_module_version": "1.2.0",
            "_model_name": "LayoutModel",
            "_view_count": null,
            "_view_module": "@jupyter-widgets/base",
            "_view_module_version": "1.2.0",
            "_view_name": "LayoutView",
            "align_content": null,
            "align_items": null,
            "align_self": null,
            "border": null,
            "bottom": null,
            "display": null,
            "flex": null,
            "flex_flow": null,
            "grid_area": null,
            "grid_auto_columns": null,
            "grid_auto_flow": null,
            "grid_auto_rows": null,
            "grid_column": null,
            "grid_gap": null,
            "grid_row": null,
            "grid_template_areas": null,
            "grid_template_columns": null,
            "grid_template_rows": null,
            "height": null,
            "justify_content": null,
            "justify_items": null,
            "left": null,
            "margin": null,
            "max_height": null,
            "max_width": null,
            "min_height": null,
            "min_width": null,
            "object_fit": null,
            "object_position": null,
            "order": null,
            "overflow": null,
            "overflow_x": null,
            "overflow_y": null,
            "padding": null,
            "right": null,
            "top": null,
            "visibility": null,
            "width": null
          }
        },
        "6983e475137042eb918829ad689bf1a3": {
          "model_module": "@jupyter-widgets/base",
          "model_name": "LayoutModel",
          "model_module_version": "1.2.0",
          "state": {
            "_model_module": "@jupyter-widgets/base",
            "_model_module_version": "1.2.0",
            "_model_name": "LayoutModel",
            "_view_count": null,
            "_view_module": "@jupyter-widgets/base",
            "_view_module_version": "1.2.0",
            "_view_name": "LayoutView",
            "align_content": null,
            "align_items": null,
            "align_self": null,
            "border": null,
            "bottom": null,
            "display": null,
            "flex": null,
            "flex_flow": null,
            "grid_area": null,
            "grid_auto_columns": null,
            "grid_auto_flow": null,
            "grid_auto_rows": null,
            "grid_column": null,
            "grid_gap": null,
            "grid_row": null,
            "grid_template_areas": null,
            "grid_template_columns": null,
            "grid_template_rows": null,
            "height": null,
            "justify_content": null,
            "justify_items": null,
            "left": null,
            "margin": null,
            "max_height": null,
            "max_width": null,
            "min_height": null,
            "min_width": null,
            "object_fit": null,
            "object_position": null,
            "order": null,
            "overflow": null,
            "overflow_x": null,
            "overflow_y": null,
            "padding": null,
            "right": null,
            "top": null,
            "visibility": null,
            "width": null
          }
        },
        "97d378a5001d4eb089a1ffe953598202": {
          "model_module": "@jupyter-widgets/controls",
          "model_name": "DescriptionStyleModel",
          "model_module_version": "1.5.0",
          "state": {
            "_model_module": "@jupyter-widgets/controls",
            "_model_module_version": "1.5.0",
            "_model_name": "DescriptionStyleModel",
            "_view_count": null,
            "_view_module": "@jupyter-widgets/base",
            "_view_module_version": "1.2.0",
            "_view_name": "StyleView",
            "description_width": ""
          }
        },
        "a0ad9b0ec1124594addcc7a3dca2df6a": {
          "model_module": "@jupyter-widgets/base",
          "model_name": "LayoutModel",
          "model_module_version": "1.2.0",
          "state": {
            "_model_module": "@jupyter-widgets/base",
            "_model_module_version": "1.2.0",
            "_model_name": "LayoutModel",
            "_view_count": null,
            "_view_module": "@jupyter-widgets/base",
            "_view_module_version": "1.2.0",
            "_view_name": "LayoutView",
            "align_content": null,
            "align_items": null,
            "align_self": null,
            "border": null,
            "bottom": null,
            "display": null,
            "flex": null,
            "flex_flow": null,
            "grid_area": null,
            "grid_auto_columns": null,
            "grid_auto_flow": null,
            "grid_auto_rows": null,
            "grid_column": null,
            "grid_gap": null,
            "grid_row": null,
            "grid_template_areas": null,
            "grid_template_columns": null,
            "grid_template_rows": null,
            "height": null,
            "justify_content": null,
            "justify_items": null,
            "left": null,
            "margin": null,
            "max_height": null,
            "max_width": null,
            "min_height": null,
            "min_width": null,
            "object_fit": null,
            "object_position": null,
            "order": null,
            "overflow": null,
            "overflow_x": null,
            "overflow_y": null,
            "padding": null,
            "right": null,
            "top": null,
            "visibility": null,
            "width": null
          }
        },
        "651cc4e644c2493c91223046641fc6b5": {
          "model_module": "@jupyter-widgets/controls",
          "model_name": "ProgressStyleModel",
          "model_module_version": "1.5.0",
          "state": {
            "_model_module": "@jupyter-widgets/controls",
            "_model_module_version": "1.5.0",
            "_model_name": "ProgressStyleModel",
            "_view_count": null,
            "_view_module": "@jupyter-widgets/base",
            "_view_module_version": "1.2.0",
            "_view_name": "StyleView",
            "bar_color": null,
            "description_width": ""
          }
        },
        "f5057a0ef2474578a49ee8f05bc5aafa": {
          "model_module": "@jupyter-widgets/base",
          "model_name": "LayoutModel",
          "model_module_version": "1.2.0",
          "state": {
            "_model_module": "@jupyter-widgets/base",
            "_model_module_version": "1.2.0",
            "_model_name": "LayoutModel",
            "_view_count": null,
            "_view_module": "@jupyter-widgets/base",
            "_view_module_version": "1.2.0",
            "_view_name": "LayoutView",
            "align_content": null,
            "align_items": null,
            "align_self": null,
            "border": null,
            "bottom": null,
            "display": null,
            "flex": null,
            "flex_flow": null,
            "grid_area": null,
            "grid_auto_columns": null,
            "grid_auto_flow": null,
            "grid_auto_rows": null,
            "grid_column": null,
            "grid_gap": null,
            "grid_row": null,
            "grid_template_areas": null,
            "grid_template_columns": null,
            "grid_template_rows": null,
            "height": null,
            "justify_content": null,
            "justify_items": null,
            "left": null,
            "margin": null,
            "max_height": null,
            "max_width": null,
            "min_height": null,
            "min_width": null,
            "object_fit": null,
            "object_position": null,
            "order": null,
            "overflow": null,
            "overflow_x": null,
            "overflow_y": null,
            "padding": null,
            "right": null,
            "top": null,
            "visibility": null,
            "width": null
          }
        },
        "5e91237d468d40808f8f4913e42793d8": {
          "model_module": "@jupyter-widgets/controls",
          "model_name": "DescriptionStyleModel",
          "model_module_version": "1.5.0",
          "state": {
            "_model_module": "@jupyter-widgets/controls",
            "_model_module_version": "1.5.0",
            "_model_name": "DescriptionStyleModel",
            "_view_count": null,
            "_view_module": "@jupyter-widgets/base",
            "_view_module_version": "1.2.0",
            "_view_name": "StyleView",
            "description_width": ""
          }
        }
      }
    }
  },
  "cells": [
    {
      "cell_type": "code",
      "execution_count": null,
      "metadata": {
        "colab": {
          "base_uri": "https://localhost:8080/"
        },
        "id": "AL79tYnPYJvG",
        "outputId": "6e740597-2e27-4cd7-c983-c51f9c378c70"
      },
      "outputs": [
        {
          "output_type": "stream",
          "name": "stdout",
          "text": [
            "Cloning into 'Shakespeare'...\n",
            "remote: Enumerating objects: 9016, done.\u001b[K\n",
            "remote: Total 9016 (delta 0), reused 0 (delta 0), pack-reused 9016\u001b[K\n",
            "Receiving objects: 100% (9016/9016), 556.83 MiB | 21.29 MiB/s, done.\n",
            "Resolving deltas: 100% (3354/3354), done.\n",
            "Updating files: 100% (4160/4160), done.\n"
          ]
        }
      ],
      "source": [
        "!git clone https://github.com/cocoxu/Shakespeare.git"
      ]
    },
    {
      "cell_type": "code",
      "source": [
        "import os\n",
        "import re\n",
        "\n",
        "DIR = 'Shakespeare/data/align/plays/merged'\n",
        "PATTERN = re.compile(r'(?P<base>[a-z_-]+)(?P<era>original|modern)\\.snt\\.aligned')\n",
        "\n",
        "plays = set(PATTERN.match(file_name).group('base') for file_name in os.listdir(DIR))\n",
        "for play in plays:\n",
        "    with open(DIR + '/' + play + 'modern.snt.aligned', 'r') as reading:\n",
        "        open('modern.txt', 'a').write(reading.read())\n",
        "    with open(DIR + '/' + play + 'original.snt.aligned', 'r') as reading:\n",
        "        open('original.txt', 'a').write(reading.read())"
      ],
      "metadata": {
        "id": "xSG5JPEaZvOj"
      },
      "execution_count": null,
      "outputs": []
    },
    {
      "cell_type": "code",
      "source": [
        "%pip install transformers"
      ],
      "metadata": {
        "colab": {
          "base_uri": "https://localhost:8080/"
        },
        "id": "uZ805yS_gLeJ",
        "outputId": "cacd0038-7cc1-4b62-ccd3-6371cae734c0"
      },
      "execution_count": null,
      "outputs": [
        {
          "output_type": "stream",
          "name": "stdout",
          "text": [
            "Looking in indexes: https://pypi.org/simple, https://us-python.pkg.dev/colab-wheels/public/simple/\n",
            "Collecting transformers\n",
            "  Downloading transformers-4.27.3-py3-none-any.whl (6.8 MB)\n",
            "\u001b[2K     \u001b[90m━━━━━━━━━━━━━━━━━━━━━━━━━━━━━━━━━━━━━━━━\u001b[0m \u001b[32m6.8/6.8 MB\u001b[0m \u001b[31m41.1 MB/s\u001b[0m eta \u001b[36m0:00:00\u001b[0m\n",
            "\u001b[?25hRequirement already satisfied: packaging>=20.0 in /usr/local/lib/python3.9/dist-packages (from transformers) (23.0)\n",
            "Requirement already satisfied: pyyaml>=5.1 in /usr/local/lib/python3.9/dist-packages (from transformers) (6.0)\n",
            "Collecting huggingface-hub<1.0,>=0.11.0\n",
            "  Downloading huggingface_hub-0.13.3-py3-none-any.whl (199 kB)\n",
            "\u001b[2K     \u001b[90m━━━━━━━━━━━━━━━━━━━━━━━━━━━━━━━━━━━━━━\u001b[0m \u001b[32m199.8/199.8 KB\u001b[0m \u001b[31m11.1 MB/s\u001b[0m eta \u001b[36m0:00:00\u001b[0m\n",
            "\u001b[?25hRequirement already satisfied: filelock in /usr/local/lib/python3.9/dist-packages (from transformers) (3.10.1)\n",
            "Requirement already satisfied: requests in /usr/local/lib/python3.9/dist-packages (from transformers) (2.27.1)\n",
            "Requirement already satisfied: numpy>=1.17 in /usr/local/lib/python3.9/dist-packages (from transformers) (1.22.4)\n",
            "Requirement already satisfied: regex!=2019.12.17 in /usr/local/lib/python3.9/dist-packages (from transformers) (2022.10.31)\n",
            "Requirement already satisfied: tqdm>=4.27 in /usr/local/lib/python3.9/dist-packages (from transformers) (4.65.0)\n",
            "Collecting tokenizers!=0.11.3,<0.14,>=0.11.1\n",
            "  Downloading tokenizers-0.13.2-cp39-cp39-manylinux_2_17_x86_64.manylinux2014_x86_64.whl (7.6 MB)\n",
            "\u001b[2K     \u001b[90m━━━━━━━━━━━━━━━━━━━━━━━━━━━━━━━━━━━━━━━━\u001b[0m \u001b[32m7.6/7.6 MB\u001b[0m \u001b[31m31.7 MB/s\u001b[0m eta \u001b[36m0:00:00\u001b[0m\n",
            "\u001b[?25hRequirement already satisfied: typing-extensions>=3.7.4.3 in /usr/local/lib/python3.9/dist-packages (from huggingface-hub<1.0,>=0.11.0->transformers) (4.5.0)\n",
            "Requirement already satisfied: idna<4,>=2.5 in /usr/local/lib/python3.9/dist-packages (from requests->transformers) (3.4)\n",
            "Requirement already satisfied: charset-normalizer~=2.0.0 in /usr/local/lib/python3.9/dist-packages (from requests->transformers) (2.0.12)\n",
            "Requirement already satisfied: urllib3<1.27,>=1.21.1 in /usr/local/lib/python3.9/dist-packages (from requests->transformers) (1.26.15)\n",
            "Requirement already satisfied: certifi>=2017.4.17 in /usr/local/lib/python3.9/dist-packages (from requests->transformers) (2022.12.7)\n",
            "Installing collected packages: tokenizers, huggingface-hub, transformers\n",
            "Successfully installed huggingface-hub-0.13.3 tokenizers-0.13.2 transformers-4.27.3\n"
          ]
        }
      ]
    },
    {
      "cell_type": "code",
      "source": [
        "import pandas as pd\n",
        "import numpy as np\n",
        "from transformers import GPT2LMHeadModel, GPT2Tokenizer\n",
        "import random\n",
        "import torch\n",
        "from torch.utils.data import Dataset, DataLoader\n",
        "from transformers import AdamW, get_linear_schedule_with_warmup\n",
        "from tqdm import tqdm, trange\n",
        "import torch.nn.functional as F\n",
        "import csv"
      ],
      "metadata": {
        "id": "xDHU5HvocpOV"
      },
      "execution_count": null,
      "outputs": []
    },
    {
      "cell_type": "code",
      "source": [
        "df = pd.DataFrame({\n",
        "    'original': open('original.txt').readlines(),\n",
        "    'modern': open('modern.txt').readlines()\n",
        "})"
      ],
      "metadata": {
        "id": "Royre2RGgKZC"
      },
      "execution_count": null,
      "outputs": []
    },
    {
      "cell_type": "code",
      "source": [
        "train_df = df.iloc[:-1000, :].copy()\n",
        "train_df['combined'] = train_df['original'].str.strip() + ' <transition> ' + train_df['modern'].str.strip()\n",
        "test_df = df.drop(train_df.index)"
      ],
      "metadata": {
        "id": "k9KlF-s7hOl4"
      },
      "execution_count": null,
      "outputs": []
    },
    {
      "cell_type": "code",
      "source": [
        "train_df.shape, test_df.shape"
      ],
      "metadata": {
        "colab": {
          "base_uri": "https://localhost:8080/"
        },
        "id": "853_P_KKhlwD",
        "outputId": "c7c0f759-f4d0-48be-ef2f-31b3c968687c"
      },
      "execution_count": null,
      "outputs": [
        {
          "output_type": "execute_result",
          "data": {
            "text/plain": [
              "((20079, 3), (1000, 2))"
            ]
          },
          "metadata": {},
          "execution_count": 5
        }
      ]
    },
    {
      "cell_type": "code",
      "source": [
        "# Well, that's convenient; GPT-2 takes up to 1024 characters of input\n",
        "train_df['combined'].str.len().max() + len('<startoftext>  <endoftext>')"
      ],
      "metadata": {
        "colab": {
          "base_uri": "https://localhost:8080/"
        },
        "id": "2MVWkSs0XjUj",
        "outputId": "6008680a-7d73-4d8e-985e-cd4e6cf91d72"
      },
      "execution_count": null,
      "outputs": [
        {
          "output_type": "execute_result",
          "data": {
            "text/plain": [
              "1020"
            ]
          },
          "metadata": {},
          "execution_count": 6
        }
      ]
    },
    {
      "cell_type": "code",
      "source": [
        "tokenizer = GPT2Tokenizer.from_pretrained('gpt2')\n",
        "\n",
        "encoded = []\n",
        "for phrase in train_df['combined']:\n",
        "    encoded.append(torch.tensor(\n",
        "        tokenizer.encode(f'<startoftext> {phrase} <endoftext>')\n",
        "    ))"
      ],
      "metadata": {
        "id": "1jYfXmcfhnCm",
        "colab": {
          "base_uri": "https://localhost:8080/",
          "height": 113,
          "referenced_widgets": [
            "93efe98a985c4b86a78ed2d63997796a",
            "a6b830fe37dc41c2b9341f791efaa1ed",
            "a79bf0f1bd864dd8b9203c6933b4fdb8",
            "0a68ef5f51634f89987a7eebd3337d1a",
            "4330c3725aa04100a6c25ad6949c5341",
            "694aa293b19a4f48a2d67d8ca57df3b2",
            "53222c4b763d40d799461cb6da4e653f",
            "d3bc41c84da248fcaacc3ff8b0fc4953",
            "919995de6fc94e16b06ca5d609cc3cc1",
            "9773ad7722c44912b62cfade8169250a",
            "c4fac4bebe25494588b6f97ca8461c91",
            "e0e6873ae71243b29c684e88dc51820d",
            "fee72145f7d4490ca65045c72d8aecf5",
            "f38efa3cdd6d45fba24f8b68262dd4b5",
            "67f39ab5635d4bc6837d4808ed5077d3",
            "32340c96a6464d398f9ffb6d66c44a18",
            "69b3f92a3aaf433cac81bc66d0f2ff19",
            "b1d5cb3a5ca04a08969d1a593e50a94c",
            "477491a03682476c818b0989f3e51e9c",
            "c6d51cfa65304586874c767b55d041aa",
            "637ace2fc384405ab26fe59160b34ac7",
            "fb6b29d383294ae98805f12d534ccd27",
            "381574d24ce44541af5df94f2ce977a0",
            "39def029bcaf4ccebbcf93ab96b2c0a4",
            "8142979c04b1400abf37657cac7eb0f7",
            "af1799f8cb124a0cac22f8e1f37183d2",
            "78609237c6e44c16bf28902188531618",
            "c9fa6b0692314046b067360b293bc8f1",
            "16d22e253e5c40b38fed0071307924a5",
            "42952b618d6a46a3822b4b22e7ea3af0",
            "97ddc8b8d7644770ad74eb40fdf47043",
            "21750361b5bf47f8a7fd4194107de59f",
            "eea1fdd15a47496198983d7b0d67171e"
          ]
        },
        "outputId": "e5504562-63b9-4643-f296-72a66ae5b303"
      },
      "execution_count": null,
      "outputs": [
        {
          "output_type": "display_data",
          "data": {
            "text/plain": [
              "Downloading (…)olve/main/vocab.json:   0%|          | 0.00/1.04M [00:00<?, ?B/s]"
            ],
            "application/vnd.jupyter.widget-view+json": {
              "version_major": 2,
              "version_minor": 0,
              "model_id": "93efe98a985c4b86a78ed2d63997796a"
            }
          },
          "metadata": {}
        },
        {
          "output_type": "display_data",
          "data": {
            "text/plain": [
              "Downloading (…)olve/main/merges.txt:   0%|          | 0.00/456k [00:00<?, ?B/s]"
            ],
            "application/vnd.jupyter.widget-view+json": {
              "version_major": 2,
              "version_minor": 0,
              "model_id": "e0e6873ae71243b29c684e88dc51820d"
            }
          },
          "metadata": {}
        },
        {
          "output_type": "display_data",
          "data": {
            "text/plain": [
              "Downloading (…)lve/main/config.json:   0%|          | 0.00/665 [00:00<?, ?B/s]"
            ],
            "application/vnd.jupyter.widget-view+json": {
              "version_major": 2,
              "version_minor": 0,
              "model_id": "381574d24ce44541af5df94f2ce977a0"
            }
          },
          "metadata": {}
        }
      ]
    },
    {
      "cell_type": "code",
      "source": [
        "tokenizer.save_pretrained(\"./models/tokenizer\")"
      ],
      "metadata": {
        "colab": {
          "base_uri": "https://localhost:8080/"
        },
        "id": "h0mqWB6DTz-i",
        "outputId": "8227782d-5e50-49a4-f71d-27816ea6683a"
      },
      "execution_count": null,
      "outputs": [
        {
          "output_type": "execute_result",
          "data": {
            "text/plain": [
              "('./models/tokenizer/tokenizer_config.json',\n",
              " './models/tokenizer/special_tokens_map.json',\n",
              " './models/tokenizer/vocab.json',\n",
              " './models/tokenizer/merges.txt',\n",
              " './models/tokenizer/added_tokens.json')"
            ]
          },
          "metadata": {},
          "execution_count": 45
        }
      ]
    },
    {
      "cell_type": "code",
      "source": [
        "!zip tokenizer.zip models/tokenizer/*"
      ],
      "metadata": {
        "colab": {
          "base_uri": "https://localhost:8080/"
        },
        "id": "ZDUaTwvnUZXL",
        "outputId": "7a5be8c7-76d6-470f-ddcd-d766b8300471"
      },
      "execution_count": null,
      "outputs": [
        {
          "output_type": "stream",
          "name": "stdout",
          "text": [
            "  adding: models/tokenizer/merges.txt (deflated 53%)\n",
            "  adding: models/tokenizer/special_tokens_map.json (deflated 74%)\n",
            "  adding: models/tokenizer/tokenizer_config.json (deflated 70%)\n",
            "  adding: models/tokenizer/vocab.json (deflated 68%)\n"
          ]
        }
      ]
    },
    {
      "cell_type": "code",
      "source": [
        "tokenizer.decode(encoded[0])"
      ],
      "metadata": {
        "colab": {
          "base_uri": "https://localhost:8080/",
          "height": 36
        },
        "id": "O042NCjBlXow",
        "outputId": "d018ab56-5ab3-4bcf-f020-93ed39e0a9ae"
      },
      "execution_count": null,
      "outputs": [
        {
          "output_type": "execute_result",
          "data": {
            "text/plain": [
              "'<startoftext> Lie thou there (throwing down a letter), for here comes the trout that must be caught with tickling. <transition> Now, you lie there on the path. <endoftext>'"
            ],
            "application/vnd.google.colaboratory.intrinsic+json": {
              "type": "string"
            }
          },
          "metadata": {},
          "execution_count": 8
        }
      ]
    },
    {
      "cell_type": "code",
      "source": [
        "model = GPT2LMHeadModel.from_pretrained('gpt2')\n",
        "\n",
        "def pack_tensor(new_tensor, packed_tensor, max_seq_len):\n",
        "    if packed_tensor is None:\n",
        "        return new_tensor, True, None\n",
        "    if new_tensor.size()[1] + packed_tensor.size()[1] > max_seq_len:\n",
        "        return packed_tensor, False, new_tensor\n",
        "    else:\n",
        "        packed_tensor = torch.cat([new_tensor, packed_tensor[:, 1:]], dim=1)\n",
        "        return packed_tensor, True, None"
      ],
      "metadata": {
        "colab": {
          "base_uri": "https://localhost:8080/",
          "height": 81,
          "referenced_widgets": [
            "f5d569eb1dc04dbfb15f61b46c434103",
            "ef2f59b4586e4daa8e9e46beee5f8319",
            "2fc50c778ac740ccb7c36928e7ea488b",
            "331043a43b5348fb9919a67e7bc2030f",
            "3f64f40f1d9a471586c09ba0b019d925",
            "6c0da117e28c45cea5444e04919c7b49",
            "0950d14d55fd4ae8b454b823817e268b",
            "2158ff95d031499b8f1a5fc6148a72a6",
            "1c675278affd43f28547a8af91e65be4",
            "e3747064cc404884b07a12ea5253b2b8",
            "cafa7061d5504d32b2d0f783aa903402",
            "11d64cbe4279423bab06bf295f912621",
            "c4f721deafa443fb96bf9333333bb06c",
            "3690880cf65c41cdb54a3031b3c8ab53",
            "14d1371d60fe41a3809094ada3c2d987",
            "54c17450e4d3471c8e9866dd783aaf93",
            "6983e475137042eb918829ad689bf1a3",
            "97d378a5001d4eb089a1ffe953598202",
            "a0ad9b0ec1124594addcc7a3dca2df6a",
            "651cc4e644c2493c91223046641fc6b5",
            "f5057a0ef2474578a49ee8f05bc5aafa",
            "5e91237d468d40808f8f4913e42793d8"
          ]
        },
        "id": "MeMJl2BNldxx",
        "outputId": "b8e9d382-963a-460e-ab08-e491eab8bb18"
      },
      "execution_count": null,
      "outputs": [
        {
          "output_type": "display_data",
          "data": {
            "text/plain": [
              "Downloading pytorch_model.bin:   0%|          | 0.00/548M [00:00<?, ?B/s]"
            ],
            "application/vnd.jupyter.widget-view+json": {
              "version_major": 2,
              "version_minor": 0,
              "model_id": "f5d569eb1dc04dbfb15f61b46c434103"
            }
          },
          "metadata": {}
        },
        {
          "output_type": "display_data",
          "data": {
            "text/plain": [
              "Downloading (…)neration_config.json:   0%|          | 0.00/124 [00:00<?, ?B/s]"
            ],
            "application/vnd.jupyter.widget-view+json": {
              "version_major": 2,
              "version_minor": 0,
              "model_id": "11d64cbe4279423bab06bf295f912621"
            }
          },
          "metadata": {}
        }
      ]
    },
    {
      "cell_type": "code",
      "source": [
        "def train(\n",
        "    dataset,\n",
        "    model,\n",
        "    tokenizer,\n",
        "    batch_size=16,\n",
        "    epochs=5,\n",
        "    lr=2e-5,\n",
        "    max_seq_len=400,\n",
        "    warmup_steps=200\n",
        "):\n",
        "    acc_steps = 100\n",
        "    device = torch.device('cuda')\n",
        "    model = model.cuda()\n",
        "    model.train()\n",
        "\n",
        "    optimizer = AdamW(model.parameters(), lr=lr)\n",
        "    scheduler = get_linear_schedule_with_warmup(\n",
        "        optimizer, num_warmup_steps=warmup_steps, num_training_steps=-1\n",
        "    )\n",
        "\n",
        "    train_dataloader = DataLoader(dataset, batch_size=1, shuffle=True)\n",
        "    loss=0\n",
        "    accumulating_batch_count = 0\n",
        "    input_tensor = None\n",
        "\n",
        "    for epoch in range(epochs):\n",
        "        print(f'Training epoch {epoch}')\n",
        "        for idx, entry in tqdm(enumerate(train_dataloader)):\n",
        "            (input_tensor, carry_on, remainder) = pack_tensor(entry, input_tensor, 768)\n",
        "\n",
        "            if carry_on and idx != len(train_dataloader) - 1:\n",
        "                continue\n",
        "\n",
        "            input_tensor = input_tensor.to(device)\n",
        "            outputs = model(input_tensor, labels=input_tensor)\n",
        "            loss = outputs[0]\n",
        "            loss.backward()\n",
        "\n",
        "            if (accumulating_batch_count % batch_size) == 0:\n",
        "                optimizer.step()\n",
        "                scheduler.step()\n",
        "                optimizer.zero_grad()\n",
        "                model.zero_grad()\n",
        "\n",
        "            accumulating_batch_count += 1\n",
        "            input_tensor = None\n",
        "        print(\"Loss:\", loss)\n",
        "\n",
        "    return model"
      ],
      "metadata": {
        "id": "-tYj1CHomv6A"
      },
      "execution_count": null,
      "outputs": []
    },
    {
      "cell_type": "code",
      "source": [
        "model = train(encoded, model, tokenizer, epochs=10)"
      ],
      "metadata": {
        "colab": {
          "base_uri": "https://localhost:8080/"
        },
        "id": "S7S21aF41ile",
        "outputId": "46f62a44-414a-40f6-8afc-98ee6cd6ea16"
      },
      "execution_count": null,
      "outputs": [
        {
          "metadata": {
            "tags": null
          },
          "name": "stderr",
          "output_type": "stream",
          "text": [
            "/usr/local/lib/python3.9/dist-packages/transformers/optimization.py:391: FutureWarning: This implementation of AdamW is deprecated and will be removed in a future version. Use the PyTorch implementation torch.optim.AdamW instead, or set `no_deprecation_warning=True` to disable this warning\n",
            "  warnings.warn(\n"
          ]
        },
        {
          "metadata": {
            "tags": null
          },
          "name": "stdout",
          "output_type": "stream",
          "text": [
            "Training epoch 0\n"
          ]
        },
        {
          "metadata": {
            "tags": null
          },
          "name": "stderr",
          "output_type": "stream",
          "text": [
            "20079it [03:48, 87.98it/s]\n"
          ]
        },
        {
          "metadata": {
            "tags": null
          },
          "name": "stdout",
          "output_type": "stream",
          "text": [
            "Loss: tensor(2.8929, device='cuda:0', grad_fn=<NllLossBackward0>)\n",
            "Training epoch 1\n"
          ]
        },
        {
          "metadata": {
            "tags": null
          },
          "name": "stderr",
          "output_type": "stream",
          "text": [
            "20079it [04:05, 81.68it/s]\n"
          ]
        },
        {
          "metadata": {
            "tags": null
          },
          "name": "stdout",
          "output_type": "stream",
          "text": [
            "Loss: tensor(2.6872, device='cuda:0', grad_fn=<NllLossBackward0>)\n",
            "Training epoch 2\n"
          ]
        },
        {
          "metadata": {
            "tags": null
          },
          "name": "stderr",
          "output_type": "stream",
          "text": [
            "20079it [04:02, 82.72it/s]\n"
          ]
        },
        {
          "metadata": {
            "tags": null
          },
          "name": "stdout",
          "output_type": "stream",
          "text": [
            "Loss: tensor(2.6452, device='cuda:0', grad_fn=<NllLossBackward0>)\n",
            "Training epoch 3\n"
          ]
        },
        {
          "metadata": {
            "tags": null
          },
          "name": "stderr",
          "output_type": "stream",
          "text": [
            "20079it [04:03, 82.54it/s]\n"
          ]
        },
        {
          "metadata": {
            "tags": null
          },
          "name": "stdout",
          "output_type": "stream",
          "text": [
            "Loss: tensor(2.0279, device='cuda:0', grad_fn=<NllLossBackward0>)\n",
            "Training epoch 4\n"
          ]
        },
        {
          "metadata": {
            "tags": null
          },
          "name": "stderr",
          "output_type": "stream",
          "text": [
            "20079it [04:05, 81.77it/s]\n"
          ]
        },
        {
          "metadata": {
            "tags": null
          },
          "name": "stdout",
          "output_type": "stream",
          "text": [
            "Loss: tensor(1.8184, device='cuda:0', grad_fn=<NllLossBackward0>)\n",
            "Training epoch 5\n"
          ]
        },
        {
          "metadata": {
            "tags": null
          },
          "name": "stderr",
          "output_type": "stream",
          "text": [
            "20079it [04:02, 82.76it/s]\n"
          ]
        },
        {
          "metadata": {
            "tags": null
          },
          "name": "stdout",
          "output_type": "stream",
          "text": [
            "Loss: tensor(2.3304, device='cuda:0', grad_fn=<NllLossBackward0>)\n",
            "Training epoch 6\n"
          ]
        },
        {
          "output_type": "stream",
          "name": "stderr",
          "text": [
            "20079it [04:01, 83.02it/s]\n"
          ]
        },
        {
          "output_type": "stream",
          "name": "stdout",
          "text": [
            "Loss: tensor(1.9647, device='cuda:0', grad_fn=<NllLossBackward0>)\n",
            "Training epoch 7\n"
          ]
        },
        {
          "output_type": "stream",
          "name": "stderr",
          "text": [
            "20079it [04:01, 83.12it/s]\n"
          ]
        },
        {
          "output_type": "stream",
          "name": "stdout",
          "text": [
            "Loss: tensor(1.8187, device='cuda:0', grad_fn=<NllLossBackward0>)\n",
            "Training epoch 8\n"
          ]
        },
        {
          "output_type": "stream",
          "name": "stderr",
          "text": [
            "20079it [04:02, 82.75it/s]\n"
          ]
        },
        {
          "output_type": "stream",
          "name": "stdout",
          "text": [
            "Loss: tensor(2.5710, device='cuda:0', grad_fn=<NllLossBackward0>)\n",
            "Training epoch 9\n"
          ]
        },
        {
          "output_type": "stream",
          "name": "stderr",
          "text": [
            "20079it [04:02, 82.86it/s]"
          ]
        },
        {
          "output_type": "stream",
          "name": "stdout",
          "text": [
            "Loss: tensor(2.9977, device='cuda:0', grad_fn=<NllLossBackward0>)\n"
          ]
        },
        {
          "output_type": "stream",
          "name": "stderr",
          "text": [
            "\n"
          ]
        }
      ]
    },
    {
      "cell_type": "code",
      "source": [
        "torch.save(model, open('shakespeare_translator', 'wb'))"
      ],
      "metadata": {
        "id": "n3674TDE1saQ"
      },
      "execution_count": null,
      "outputs": []
    },
    {
      "cell_type": "code",
      "source": [
        "!ls -sh"
      ],
      "metadata": {
        "colab": {
          "base_uri": "https://localhost:8080/"
        },
        "id": "6EktTpxV8fDn",
        "outputId": "8c78a2a3-fb11-464d-a647-5e195b20d085"
      },
      "execution_count": null,
      "outputs": [
        {
          "output_type": "stream",
          "name": "stdout",
          "text": [
            "total 489M\n",
            "1004K modern.txt     4.0K sample_data\n",
            " 1.1M original.txt   487M shakespeare_translator\n"
          ]
        }
      ]
    },
    {
      "cell_type": "code",
      "source": [
        "!zip shakespeare_translator"
      ],
      "metadata": {
        "colab": {
          "base_uri": "https://localhost:8080/"
        },
        "id": "fkHmSKtq9CfR",
        "outputId": "d4a06fb8-cdd5-49d1-86e4-8992e7cfffa6"
      },
      "execution_count": null,
      "outputs": [
        {
          "output_type": "stream",
          "name": "stdout",
          "text": [
            "\n",
            "zip error: Nothing to do! (shakespeare_translator.zip)\n"
          ]
        }
      ]
    },
    {
      "cell_type": "code",
      "source": [
        "!zip --help"
      ],
      "metadata": {
        "colab": {
          "base_uri": "https://localhost:8080/"
        },
        "id": "ReMSqEtl9SbO",
        "outputId": "8409a28a-0840-4bf6-b26b-7b4e9d96635d"
      },
      "execution_count": null,
      "outputs": [
        {
          "output_type": "stream",
          "name": "stdout",
          "text": [
            "Copyright (c) 1990-2008 Info-ZIP - Type 'zip \"-L\"' for software license.\n",
            "Zip 3.0 (July 5th 2008). Usage:\n",
            "zip [-options] [-b path] [-t mmddyyyy] [-n suffixes] [zipfile list] [-xi list]\n",
            "  The default action is to add or replace zipfile entries from list, which\n",
            "  can include the special name - to compress standard input.\n",
            "  If zipfile and list are omitted, zip compresses stdin to stdout.\n",
            "  -f   freshen: only changed files  -u   update: only changed or new files\n",
            "  -d   delete entries in zipfile    -m   move into zipfile (delete OS files)\n",
            "  -r   recurse into directories     -j   junk (don't record) directory names\n",
            "  -0   store only                   -l   convert LF to CR LF (-ll CR LF to LF)\n",
            "  -1   compress faster              -9   compress better\n",
            "  -q   quiet operation              -v   verbose operation/print version info\n",
            "  -c   add one-line comments        -z   add zipfile comment\n",
            "  -@   read names from stdin        -o   make zipfile as old as latest entry\n",
            "  -x   exclude the following names  -i   include only the following names\n",
            "  -F   fix zipfile (-FF try harder) -D   do not add directory entries\n",
            "  -A   adjust self-extracting exe   -J   junk zipfile prefix (unzipsfx)\n",
            "  -T   test zipfile integrity       -X   eXclude eXtra file attributes\n",
            "  -y   store symbolic links as the link instead of the referenced file\n",
            "  -e   encrypt                      -n   don't compress these suffixes\n",
            "  -h2  show more help\n",
            "  \n"
          ]
        }
      ]
    },
    {
      "cell_type": "code",
      "source": [
        "!zip -9 shakespeare_translator.zip shakespeare_translator"
      ],
      "metadata": {
        "colab": {
          "base_uri": "https://localhost:8080/"
        },
        "id": "WUlkZrDg9U45",
        "outputId": "fe1ec157-063c-4964-ac98-79acc2829810"
      },
      "execution_count": null,
      "outputs": [
        {
          "output_type": "stream",
          "name": "stdout",
          "text": [
            "  adding: shakespeare_translator\n",
            "\n",
            "\n",
            "zip error: Interrupted (aborting)\n"
          ]
        }
      ]
    },
    {
      "cell_type": "code",
      "source": [
        "!ls -sh"
      ],
      "metadata": {
        "colab": {
          "base_uri": "https://localhost:8080/"
        },
        "id": "T_vKmkD9-T2g",
        "outputId": "7b9768b4-7f78-4432-fd4f-44e6b02c7acb"
      },
      "execution_count": null,
      "outputs": [
        {
          "output_type": "stream",
          "name": "stdout",
          "text": [
            "total 930M\n",
            "1004K modern.txt     487M shakespeare_translator\n",
            " 1.1M original.txt   442M shakespeare_translator.zip\n",
            " 4.0K sample_data\n"
          ]
        }
      ]
    },
    {
      "cell_type": "code",
      "source": [
        "from google.colab import drive\n",
        "drive.mount('/content/drive')"
      ],
      "metadata": {
        "colab": {
          "base_uri": "https://localhost:8080/"
        },
        "id": "zozPgClu-pxe",
        "outputId": "e65dc27b-4db2-4b9e-ed2c-b7a3f225ef9d"
      },
      "execution_count": null,
      "outputs": [
        {
          "output_type": "stream",
          "name": "stdout",
          "text": [
            "Mounted at /content/drive\n"
          ]
        }
      ]
    },
    {
      "cell_type": "code",
      "source": [
        "import shutil\n",
        "\n",
        "shutil.copyfile('shakespeare_translator', '/content/drive/MyDrive/shakespeare_translator')"
      ],
      "metadata": {
        "colab": {
          "base_uri": "https://localhost:8080/",
          "height": 35
        },
        "id": "OFMRP0pt-3WC",
        "outputId": "5ce325e9-656f-4c3f-bfe7-09ba71ad2b76"
      },
      "execution_count": null,
      "outputs": [
        {
          "output_type": "execute_result",
          "data": {
            "text/plain": [
              "'/content/drive/MyDrive/shakespeare_translator'"
            ],
            "application/vnd.google.colaboratory.intrinsic+json": {
              "type": "string"
            }
          },
          "metadata": {},
          "execution_count": 43
        }
      ]
    },
    {
      "cell_type": "code",
      "source": [
        "def translate(\n",
        "    model,\n",
        "    tokenizer,\n",
        "    prompt,\n",
        "    entry_count=1,\n",
        "    entry_length=30,\n",
        "    top_p = 0.8,\n",
        "    temperature=1.,\n",
        "):\n",
        "    if not isinstance(prompt, str):\n",
        "        raise TypeError('prompt must be a str')\n",
        "    if '<startoftext>' not in prompt and isinstance(prompt, str):\n",
        "        prompt = '<startoftext> ' + prompt.lstrip()\n",
        "    if '<transition>' not in prompt and isinstance(prompt, str):\n",
        "        prompt = prompt.rstrip() + ' <transition>'\n",
        "\n",
        "    model.eval()\n",
        "    translated_num=0\n",
        "    translated_list=[]\n",
        "\n",
        "    filter_value = -float(\"Inf\")\n",
        "\n",
        "    with torch.no_grad():\n",
        "        for entry_idx in trange(entry_count):\n",
        "            entry_finished = False\n",
        "            translated = torch.tensor(tokenizer.encode(prompt)).unsqueeze(0)\n",
        "            for i in range(entry_length):\n",
        "                outputs = model(translated, labels=translated)\n",
        "                loss, logits = outputs[:2]\n",
        "                logits = logits[:, -1, :]/(temperature if temperature > 0 else 1.0)\n",
        "\n",
        "                sorted_logits, sorted_indices = torch.sort(logits, descending=True)\n",
        "                cumulative_probs = torch.cumsum(F.softmax(sorted_logits, dim=-1), dim=-1)\n",
        "\n",
        "                sorted_indices_to_remove = cumulative_probs > top_p\n",
        "                sorted_indices_to_remove[..., 1:] = sorted_indices_to_remove[..., :-1].clone()\n",
        "                sorted_indices_to_remove[..., 0] = 0\n",
        "\n",
        "                indices_to_remove = sorted_indices[sorted_indices_to_remove]\n",
        "                logits[:, indices_to_remove] = filter_value\n",
        "\n",
        "                next_token = torch.multinomial(F.softmax(logits, dim=-1), num_samples=1)\n",
        "                translated = torch.cat((translated, next_token), dim=-1)\n",
        "\n",
        "                if next_token in tokenizer.encode(\"<endoftext>\"):\n",
        "                    entry_finished = True\n",
        "\n",
        "                if entry_finished:\n",
        "                    translated_num = translated_num + 1\n",
        "\n",
        "                    output_list = list(translated.squeeze().numpy())\n",
        "                    output_text = tokenizer.decode(output_list)\n",
        "                    translated_list.append(output_text)\n",
        "                    break\n",
        "\n",
        "            if not entry_finished:\n",
        "                output_list = list(translated.squeeze().numpy())\n",
        "                output_text = f\"{tokenizer.decode(output_list)}<endoftext>\"\n",
        "                translated_list.append(output_text)\n",
        "\n",
        "    return translated_list[0].split('<transition> ')[1].rstrip('<end')\n",
        "\n",
        "\n",
        "def text_translation(test_data):\n",
        "    translate_text = []\n",
        "    for i in range(len(test_data)):\n",
        "        x = translate(model.to('cpu'), tokenizer, test_data[i], entry_count=1)\n",
        "        translate_text.append(x)\n",
        "\n",
        "    return translate_text\n",
        "df_test = test_df.iloc[:100,:]\n",
        "# generated = generate(model.to('cpu'), tokenizer, test_df['original'].iloc[1], entry_count=1)\n",
        "# actual = test_df['modern'].iloc[1]\n",
        "# generated, actual\n",
        "translate_text = text_translation(df_test['original'].tolist())"
      ],
      "metadata": {
        "colab": {
          "base_uri": "https://localhost:8080/"
        },
        "id": "lNz4kttr_GjY",
        "outputId": "d8904858-7fec-48b0-ac65-67c22bac54fb"
      },
      "execution_count": null,
      "outputs": [
        {
          "output_type": "stream",
          "name": "stderr",
          "text": [
            "100%|██████████| 1/1 [00:02<00:00,  2.23s/it]\n",
            "100%|██████████| 1/1 [00:01<00:00,  1.85s/it]\n",
            "100%|██████████| 1/1 [00:03<00:00,  3.17s/it]\n",
            "100%|██████████| 1/1 [00:02<00:00,  2.00s/it]\n",
            "100%|██████████| 1/1 [00:07<00:00,  7.08s/it]\n",
            "100%|██████████| 1/1 [00:01<00:00,  1.89s/it]\n",
            "100%|██████████| 1/1 [00:02<00:00,  2.19s/it]\n",
            "100%|██████████| 1/1 [00:05<00:00,  5.71s/it]\n",
            "100%|██████████| 1/1 [00:04<00:00,  4.97s/it]\n",
            "100%|██████████| 1/1 [00:02<00:00,  2.86s/it]\n",
            "100%|██████████| 1/1 [00:03<00:00,  3.10s/it]\n",
            "100%|██████████| 1/1 [00:00<00:00,  1.01it/s]\n",
            "100%|██████████| 1/1 [00:01<00:00,  1.29s/it]\n",
            "100%|██████████| 1/1 [00:02<00:00,  2.31s/it]\n",
            "100%|██████████| 1/1 [00:01<00:00,  1.29s/it]\n",
            "100%|██████████| 1/1 [00:01<00:00,  1.09s/it]\n",
            "100%|██████████| 1/1 [00:08<00:00,  8.74s/it]\n",
            "100%|██████████| 1/1 [00:02<00:00,  2.13s/it]\n",
            "100%|██████████| 1/1 [00:01<00:00,  1.32s/it]\n",
            "100%|██████████| 1/1 [00:02<00:00,  2.08s/it]\n",
            "100%|██████████| 1/1 [00:01<00:00,  1.10s/it]\n",
            "100%|██████████| 1/1 [00:02<00:00,  2.92s/it]\n",
            "100%|██████████| 1/1 [00:07<00:00,  7.24s/it]\n",
            "100%|██████████| 1/1 [00:03<00:00,  3.02s/it]\n",
            "100%|██████████| 1/1 [00:07<00:00,  7.36s/it]\n",
            "100%|██████████| 1/1 [00:03<00:00,  3.35s/it]\n",
            "100%|██████████| 1/1 [00:01<00:00,  1.44s/it]\n",
            "100%|██████████| 1/1 [00:08<00:00,  8.19s/it]\n",
            "100%|██████████| 1/1 [00:02<00:00,  2.37s/it]\n",
            "100%|██████████| 1/1 [00:01<00:00,  1.97s/it]\n",
            "100%|██████████| 1/1 [00:00<00:00,  2.11it/s]\n",
            "100%|██████████| 1/1 [00:01<00:00,  1.12s/it]\n",
            "100%|██████████| 1/1 [00:01<00:00,  1.29s/it]\n",
            "100%|██████████| 1/1 [00:00<00:00,  1.05it/s]\n",
            "100%|██████████| 1/1 [00:01<00:00,  1.61s/it]\n",
            "100%|██████████| 1/1 [00:03<00:00,  3.34s/it]\n",
            "100%|██████████| 1/1 [00:02<00:00,  2.83s/it]\n",
            "100%|██████████| 1/1 [00:01<00:00,  1.09s/it]\n",
            "100%|██████████| 1/1 [00:00<00:00,  1.81it/s]\n",
            "100%|██████████| 1/1 [00:01<00:00,  1.28s/it]\n",
            "100%|██████████| 1/1 [00:07<00:00,  7.17s/it]\n",
            "100%|██████████| 1/1 [00:04<00:00,  4.55s/it]\n",
            "100%|██████████| 1/1 [00:01<00:00,  1.38s/it]\n",
            "100%|██████████| 1/1 [00:01<00:00,  1.84s/it]\n",
            "100%|██████████| 1/1 [00:01<00:00,  1.23s/it]\n",
            "100%|██████████| 1/1 [00:03<00:00,  3.36s/it]\n",
            "100%|██████████| 1/1 [00:02<00:00,  2.94s/it]\n",
            "100%|██████████| 1/1 [00:04<00:00,  4.03s/it]\n",
            "100%|██████████| 1/1 [00:04<00:00,  4.52s/it]\n",
            "100%|██████████| 1/1 [00:00<00:00,  1.63it/s]\n",
            "100%|██████████| 1/1 [00:02<00:00,  2.72s/it]\n",
            "100%|██████████| 1/1 [00:00<00:00,  1.18it/s]\n",
            "100%|██████████| 1/1 [00:00<00:00,  1.08it/s]\n",
            "100%|██████████| 1/1 [00:02<00:00,  2.03s/it]\n",
            "100%|██████████| 1/1 [00:00<00:00,  1.07it/s]\n",
            "100%|██████████| 1/1 [00:01<00:00,  1.08s/it]\n",
            "100%|██████████| 1/1 [00:00<00:00,  1.62it/s]\n",
            "100%|██████████| 1/1 [00:02<00:00,  2.78s/it]\n",
            "100%|██████████| 1/1 [00:04<00:00,  4.33s/it]\n",
            "100%|██████████| 1/1 [00:01<00:00,  1.39s/it]\n",
            "100%|██████████| 1/1 [00:01<00:00,  1.91s/it]\n",
            "100%|██████████| 1/1 [00:02<00:00,  2.69s/it]\n",
            "100%|██████████| 1/1 [00:01<00:00,  1.67s/it]\n",
            "100%|██████████| 1/1 [00:01<00:00,  1.54s/it]\n",
            "100%|██████████| 1/1 [00:01<00:00,  1.51s/it]\n",
            "100%|██████████| 1/1 [00:04<00:00,  4.51s/it]\n",
            "100%|██████████| 1/1 [00:01<00:00,  1.46s/it]\n",
            "100%|██████████| 1/1 [00:02<00:00,  2.05s/it]\n",
            "100%|██████████| 1/1 [00:01<00:00,  1.37s/it]\n",
            "100%|██████████| 1/1 [00:01<00:00,  1.11s/it]\n",
            "100%|██████████| 1/1 [00:01<00:00,  1.56s/it]\n",
            "100%|██████████| 1/1 [00:03<00:00,  3.76s/it]\n",
            "100%|██████████| 1/1 [00:01<00:00,  1.11s/it]\n",
            "100%|██████████| 1/1 [00:03<00:00,  3.03s/it]\n",
            "100%|██████████| 1/1 [00:01<00:00,  1.10s/it]\n",
            "100%|██████████| 1/1 [00:01<00:00,  1.60s/it]\n",
            "100%|██████████| 1/1 [00:02<00:00,  2.96s/it]\n",
            "100%|██████████| 1/1 [00:02<00:00,  2.62s/it]\n",
            "100%|██████████| 1/1 [00:02<00:00,  2.19s/it]\n",
            "100%|██████████| 1/1 [00:01<00:00,  1.32s/it]\n",
            "100%|██████████| 1/1 [00:01<00:00,  1.21s/it]\n",
            "100%|██████████| 1/1 [00:04<00:00,  4.04s/it]\n",
            "100%|██████████| 1/1 [00:02<00:00,  2.08s/it]\n",
            "100%|██████████| 1/1 [00:02<00:00,  2.83s/it]\n",
            "100%|██████████| 1/1 [00:03<00:00,  3.90s/it]\n",
            "100%|██████████| 1/1 [00:00<00:00,  1.32it/s]\n",
            "100%|██████████| 1/1 [00:00<00:00,  1.08it/s]\n",
            "100%|██████████| 1/1 [00:03<00:00,  3.03s/it]\n",
            "100%|██████████| 1/1 [00:01<00:00,  1.55s/it]\n",
            "100%|██████████| 1/1 [00:06<00:00,  6.23s/it]\n",
            "100%|██████████| 1/1 [00:01<00:00,  1.11s/it]\n",
            "100%|██████████| 1/1 [00:01<00:00,  1.92s/it]\n",
            "100%|██████████| 1/1 [00:02<00:00,  2.19s/it]\n",
            "100%|██████████| 1/1 [00:06<00:00,  6.04s/it]\n",
            "100%|██████████| 1/1 [00:02<00:00,  2.18s/it]\n",
            "100%|██████████| 1/1 [00:03<00:00,  3.07s/it]\n",
            "100%|██████████| 1/1 [00:08<00:00,  8.77s/it]\n",
            "100%|██████████| 1/1 [00:01<00:00,  1.69s/it]\n",
            "100%|██████████| 1/1 [00:01<00:00,  1.80s/it]\n",
            "100%|██████████| 1/1 [00:00<00:00,  1.25it/s]\n"
          ]
        }
      ]
    },
    {
      "cell_type": "code",
      "source": [
        "print(translate_text)"
      ],
      "metadata": {
        "colab": {
          "base_uri": "https://localhost:8080/"
        },
        "id": "_wqRV3d_UDMf",
        "outputId": "8ce314fd-3fd0-4f41-ef78-5ba4c95b584a"
      },
      "execution_count": null,
      "outputs": [
        {
          "output_type": "stream",
          "name": "stdout",
          "text": [
            "['I thank you for your service and help. ', 'And he that hath commanded us is our king. ', 'And that same vengeance doth He pierce that same wall. ', 'Do you love your dear heart? ', 'How can God compel us to tolerate that law if he could, right in front of us, being very plainly locked in such misery? ', 'For who did I help to hurt my wife? ', 'For Edward, for my brother, for his sake. ', \"If God wants to be punished, you know he won't even give in on that promise. \", 'Take him to his rightful point, then I will allow him to forgive those who have offended Him. ', 'My brother’s love, my demon, and my rage. ', 'I am his brother and I love him very well. ', \"You're not fooled. \", 'Your brother Gloucester hates you. ', 'Oh, I love you, and he loves me. ', 'Go you to him from me. ', 'Ay, so we will. ', 'Tell him, when your father York Blessed his three sons with his victorious arm, He was not concerned about a battle for the king, rather he did<endoftext>', 'She will weep, and it will be all right. ', 'It all started with laughing. ', 'There are so many wonderful seasons and lovely colors in harvest. ', 'I guess I was deceived. ', 'He’s sending us here, to do your bidding. ', 'Why, so he did when he delivered you from this earth’s thralldom to the joys of heaven. ', \"Don't worry about God, I swear you're going to die here. \", 'Have you that holy feeling in your souls to command me to strike at him with my sword? ', 'What are you going to do with the crap that your cheeks hate? ', 'Relent, and save your soul. ', 'If you were a prince’s son, you’ll not fight for life in any way. ', 'Yes, you would beg, were you in my distress. ', \"Well, sir, I don't see how to manage. \", 'No. ', 'I hope you are right. ', 'Look behind you, my lord. ', 'Take that and that. ', 'How long have you been waiting? ', 'How much of a bad deed do you act to one another? ', \"How nice that he won't see how you've slackened up. \", 'He knows about it. ', 'No. ', 'Go, coward as you are. ', 'Well, I’ll go hide the body in some hole until that the duke give order for his burial. ', 'And when I have my meed, I will go away, and then I can go. ', 'I’m guessing that voice. ', 'It should be drowned and these are devils. ', 'I’m defending you! ', 'Four legs and two voices—a rare and wonderful monster. ', 'His man, his voice now, is to speak well of his friend. ', 'His backwards voice is now uttering foul speech and at his back he shouts out a foul curse. ', 'If all the wine in my bottle will restore him, I will help his ague. ', 'Come. ', 'And I swear by God, Stephano, I swear by God! ', 'What is that? ', 'You have done wrong! ', 'I’m a devil, and no monster. ', 'I will leave him. ', 'I have no long spoon. ', 'Stephano! ', 'If you are Stephano, touch me and speak to me. ', 'For I am Trinculo—not your good friend Trinculo. ', 'If you are, come forth. ', 'I’ll pull you by the legs. ', 'If any’s on his back, these are them. ', 'But art thou not drowned, Stephano? ', 'I hope I am not drowned. ', 'The storm is overblown? ', 'I ’m hiding in the dead mooncalf for fear of the storm. ', 'And art thou living, Stephano? ', 'Who else’s buried in the hill? ', 'Let me not turn you away. ', 'My stomach is not ready. ', 'Switcheroo, man! ', 'I’m a duck, I’ll be sworn. ', 'Here, kiss the book. ', 'Well, sir, as a follow-on is too much of a distraction. ', 'The whole butt, man. ', \"Yes, you haven't dropped from heaven. \", \"Oh, o' th' moon, I swear by the way. \", 'I was the man when the moon was. ', 'My mistress showed me and my dog and my bush. ', 'I’m a fool. ', 'I have nothing to worry about. ', 'He walks around the moon, which makes his life shine with warmth, while he lays it upon his head. ', 'Well, a very poor sane monster. ', 'The poison-stained woman in front of you. ', 'When ’s ’s asleep, he’ll take away your bottle. ', 'Come on now. ', 'Down, and swear. ', \"I won't be laughing at this rotten dog-headed monster at all. \", 'A pretty but paltry monster. ', 'I’m tired of fighting—  And will try to cure him by doing something I can. ', 'An abominable monster! ', 'I’ll show you the best springs. ', 'I’ll cut you down with my magic wand. ', 'I’ll give you enough wood to eat, enough room to eat, enough water to drink, enough rest. ', 'It’s coming upon the tyrant that I serve! ', 'A most ridiculous monster, to make a wonder of a poor drunkard. ', 'I’ll drink some of my old liquor, lead the way without talking to the king. ', 'A howling monster, a drunken monster. ', \"What is it you're going to do with me? \", 'Lead the way. ']\n"
          ]
        }
      ]
    },
    {
      "cell_type": "code",
      "source": [
        "# adding generated text to df\n",
        "\n",
        "df_test['Translated_Text'] = translate_text\n",
        "\n",
        "\n"
      ],
      "metadata": {
        "colab": {
          "base_uri": "https://localhost:8080/"
        },
        "id": "6kn73RPP7tsE",
        "outputId": "19f43e53-464b-4d6f-94f2-6f2c9e4367df"
      },
      "execution_count": null,
      "outputs": [
        {
          "output_type": "stream",
          "name": "stderr",
          "text": [
            "<ipython-input-40-66d4bd4c571b>:3: SettingWithCopyWarning: \n",
            "A value is trying to be set on a copy of a slice from a DataFrame.\n",
            "Try using .loc[row_indexer,col_indexer] = value instead\n",
            "\n",
            "See the caveats in the documentation: https://pandas.pydata.org/pandas-docs/stable/user_guide/indexing.html#returning-a-view-versus-a-copy\n",
            "  df_test['Translated_Text'] = translate_text\n"
          ]
        }
      ]
    },
    {
      "cell_type": "code",
      "source": [
        "df_test"
      ],
      "metadata": {
        "colab": {
          "base_uri": "https://localhost:8080/",
          "height": 423
        },
        "id": "dgQ5Ux8dMVVY",
        "outputId": "1adf7ad5-d65f-407b-e729-e7db7fc2116c"
      },
      "execution_count": null,
      "outputs": [
        {
          "output_type": "execute_result",
          "data": {
            "text/plain": [
              "                                                original  \\\n",
              "20079  I do beseech your Grace to pardon me, and with...   \n",
              "20080          And he that hath commanded is our king.\\n   \n",
              "20081  And that same vengeance doth He hurl on thee F...   \n",
              "20082      Whom thou wert sworn to cherish and defend.\\n   \n",
              "20083  How canst thou urge God’s dreadful law to us W...   \n",
              "...                                                  ...   \n",
              "20174  A most ridiculous monster, to make a wonder of...   \n",
              "20175  I prithee now, lead the way without any more t...   \n",
              "20176            A howling monster, a drunken monster.\\n   \n",
              "20177                                 O brave monster!\\n   \n",
              "20178                                    Lead the way.\\n   \n",
              "\n",
              "                                                  modern  \\\n",
              "20079                                      I beg your \\n   \n",
              "20080         And the one who commands us is our king.\\n   \n",
              "20081  He does, and now he’s taking revenge on you—fo...   \n",
              "20082     Whom you swore you would protect and defend.\\n   \n",
              "20083  How dare you tell us about God’s laws when you...   \n",
              "...                                                  ...   \n",
              "20174  What a silly monster, to think a poor drunk is...   \n",
              "20175  Show us the way without further delay.—Trincul...   \n",
              "20176                 A loud-mouthed, drunken monster.\\n   \n",
              "20177                                    Good monster!\\n   \n",
              "20178                                 Show us the way.\\n   \n",
              "\n",
              "                                         Translated_Text  \n",
              "20079            I thank you for your service and help.   \n",
              "20080        And he that hath commanded us is our king.   \n",
              "20081  And that same vengeance doth He pierce that sa...  \n",
              "20082                      Do you love your dear heart?   \n",
              "20083  How can God compel us to tolerate that law if ...  \n",
              "...                                                  ...  \n",
              "20174  A most ridiculous monster, to make a wonder of...  \n",
              "20175  I’ll drink some of my old liquor, lead the way...  \n",
              "20176             A howling monster, a drunken monster.   \n",
              "20177            What is it you're going to do with me?   \n",
              "20178                                     Lead the way.   \n",
              "\n",
              "[100 rows x 3 columns]"
            ],
            "text/html": [
              "\n",
              "  <div id=\"df-ae11245d-0dab-46f3-ae87-d047c30bf2eb\">\n",
              "    <div class=\"colab-df-container\">\n",
              "      <div>\n",
              "<style scoped>\n",
              "    .dataframe tbody tr th:only-of-type {\n",
              "        vertical-align: middle;\n",
              "    }\n",
              "\n",
              "    .dataframe tbody tr th {\n",
              "        vertical-align: top;\n",
              "    }\n",
              "\n",
              "    .dataframe thead th {\n",
              "        text-align: right;\n",
              "    }\n",
              "</style>\n",
              "<table border=\"1\" class=\"dataframe\">\n",
              "  <thead>\n",
              "    <tr style=\"text-align: right;\">\n",
              "      <th></th>\n",
              "      <th>original</th>\n",
              "      <th>modern</th>\n",
              "      <th>Translated_Text</th>\n",
              "    </tr>\n",
              "  </thead>\n",
              "  <tbody>\n",
              "    <tr>\n",
              "      <th>20079</th>\n",
              "      <td>I do beseech your Grace to pardon me, and with...</td>\n",
              "      <td>I beg your \\n</td>\n",
              "      <td>I thank you for your service and help.</td>\n",
              "    </tr>\n",
              "    <tr>\n",
              "      <th>20080</th>\n",
              "      <td>And he that hath commanded is our king.\\n</td>\n",
              "      <td>And the one who commands us is our king.\\n</td>\n",
              "      <td>And he that hath commanded us is our king.</td>\n",
              "    </tr>\n",
              "    <tr>\n",
              "      <th>20081</th>\n",
              "      <td>And that same vengeance doth He hurl on thee F...</td>\n",
              "      <td>He does, and now he’s taking revenge on you—fo...</td>\n",
              "      <td>And that same vengeance doth He pierce that sa...</td>\n",
              "    </tr>\n",
              "    <tr>\n",
              "      <th>20082</th>\n",
              "      <td>Whom thou wert sworn to cherish and defend.\\n</td>\n",
              "      <td>Whom you swore you would protect and defend.\\n</td>\n",
              "      <td>Do you love your dear heart?</td>\n",
              "    </tr>\n",
              "    <tr>\n",
              "      <th>20083</th>\n",
              "      <td>How canst thou urge God’s dreadful law to us W...</td>\n",
              "      <td>How dare you tell us about God’s laws when you...</td>\n",
              "      <td>How can God compel us to tolerate that law if ...</td>\n",
              "    </tr>\n",
              "    <tr>\n",
              "      <th>...</th>\n",
              "      <td>...</td>\n",
              "      <td>...</td>\n",
              "      <td>...</td>\n",
              "    </tr>\n",
              "    <tr>\n",
              "      <th>20174</th>\n",
              "      <td>A most ridiculous monster, to make a wonder of...</td>\n",
              "      <td>What a silly monster, to think a poor drunk is...</td>\n",
              "      <td>A most ridiculous monster, to make a wonder of...</td>\n",
              "    </tr>\n",
              "    <tr>\n",
              "      <th>20175</th>\n",
              "      <td>I prithee now, lead the way without any more t...</td>\n",
              "      <td>Show us the way without further delay.—Trincul...</td>\n",
              "      <td>I’ll drink some of my old liquor, lead the way...</td>\n",
              "    </tr>\n",
              "    <tr>\n",
              "      <th>20176</th>\n",
              "      <td>A howling monster, a drunken monster.\\n</td>\n",
              "      <td>A loud-mouthed, drunken monster.\\n</td>\n",
              "      <td>A howling monster, a drunken monster.</td>\n",
              "    </tr>\n",
              "    <tr>\n",
              "      <th>20177</th>\n",
              "      <td>O brave monster!\\n</td>\n",
              "      <td>Good monster!\\n</td>\n",
              "      <td>What is it you're going to do with me?</td>\n",
              "    </tr>\n",
              "    <tr>\n",
              "      <th>20178</th>\n",
              "      <td>Lead the way.\\n</td>\n",
              "      <td>Show us the way.\\n</td>\n",
              "      <td>Lead the way.</td>\n",
              "    </tr>\n",
              "  </tbody>\n",
              "</table>\n",
              "<p>100 rows × 3 columns</p>\n",
              "</div>\n",
              "      <button class=\"colab-df-convert\" onclick=\"convertToInteractive('df-ae11245d-0dab-46f3-ae87-d047c30bf2eb')\"\n",
              "              title=\"Convert this dataframe to an interactive table.\"\n",
              "              style=\"display:none;\">\n",
              "        \n",
              "  <svg xmlns=\"http://www.w3.org/2000/svg\" height=\"24px\"viewBox=\"0 0 24 24\"\n",
              "       width=\"24px\">\n",
              "    <path d=\"M0 0h24v24H0V0z\" fill=\"none\"/>\n",
              "    <path d=\"M18.56 5.44l.94 2.06.94-2.06 2.06-.94-2.06-.94-.94-2.06-.94 2.06-2.06.94zm-11 1L8.5 8.5l.94-2.06 2.06-.94-2.06-.94L8.5 2.5l-.94 2.06-2.06.94zm10 10l.94 2.06.94-2.06 2.06-.94-2.06-.94-.94-2.06-.94 2.06-2.06.94z\"/><path d=\"M17.41 7.96l-1.37-1.37c-.4-.4-.92-.59-1.43-.59-.52 0-1.04.2-1.43.59L10.3 9.45l-7.72 7.72c-.78.78-.78 2.05 0 2.83L4 21.41c.39.39.9.59 1.41.59.51 0 1.02-.2 1.41-.59l7.78-7.78 2.81-2.81c.8-.78.8-2.07 0-2.86zM5.41 20L4 18.59l7.72-7.72 1.47 1.35L5.41 20z\"/>\n",
              "  </svg>\n",
              "      </button>\n",
              "      \n",
              "  <style>\n",
              "    .colab-df-container {\n",
              "      display:flex;\n",
              "      flex-wrap:wrap;\n",
              "      gap: 12px;\n",
              "    }\n",
              "\n",
              "    .colab-df-convert {\n",
              "      background-color: #E8F0FE;\n",
              "      border: none;\n",
              "      border-radius: 50%;\n",
              "      cursor: pointer;\n",
              "      display: none;\n",
              "      fill: #1967D2;\n",
              "      height: 32px;\n",
              "      padding: 0 0 0 0;\n",
              "      width: 32px;\n",
              "    }\n",
              "\n",
              "    .colab-df-convert:hover {\n",
              "      background-color: #E2EBFA;\n",
              "      box-shadow: 0px 1px 2px rgba(60, 64, 67, 0.3), 0px 1px 3px 1px rgba(60, 64, 67, 0.15);\n",
              "      fill: #174EA6;\n",
              "    }\n",
              "\n",
              "    [theme=dark] .colab-df-convert {\n",
              "      background-color: #3B4455;\n",
              "      fill: #D2E3FC;\n",
              "    }\n",
              "\n",
              "    [theme=dark] .colab-df-convert:hover {\n",
              "      background-color: #434B5C;\n",
              "      box-shadow: 0px 1px 3px 1px rgba(0, 0, 0, 0.15);\n",
              "      filter: drop-shadow(0px 1px 2px rgba(0, 0, 0, 0.3));\n",
              "      fill: #FFFFFF;\n",
              "    }\n",
              "  </style>\n",
              "\n",
              "      <script>\n",
              "        const buttonEl =\n",
              "          document.querySelector('#df-ae11245d-0dab-46f3-ae87-d047c30bf2eb button.colab-df-convert');\n",
              "        buttonEl.style.display =\n",
              "          google.colab.kernel.accessAllowed ? 'block' : 'none';\n",
              "\n",
              "        async function convertToInteractive(key) {\n",
              "          const element = document.querySelector('#df-ae11245d-0dab-46f3-ae87-d047c30bf2eb');\n",
              "          const dataTable =\n",
              "            await google.colab.kernel.invokeFunction('convertToInteractive',\n",
              "                                                     [key], {});\n",
              "          if (!dataTable) return;\n",
              "\n",
              "          const docLinkHtml = 'Like what you see? Visit the ' +\n",
              "            '<a target=\"_blank\" href=https://colab.research.google.com/notebooks/data_table.ipynb>data table notebook</a>'\n",
              "            + ' to learn more about interactive tables.';\n",
              "          element.innerHTML = '';\n",
              "          dataTable['output_type'] = 'display_data';\n",
              "          await google.colab.output.renderOutput(dataTable, element);\n",
              "          const docLink = document.createElement('div');\n",
              "          docLink.innerHTML = docLinkHtml;\n",
              "          element.appendChild(docLink);\n",
              "        }\n",
              "      </script>\n",
              "    </div>\n",
              "  </div>\n",
              "  "
            ]
          },
          "metadata": {},
          "execution_count": 41
        }
      ]
    },
    {
      "cell_type": "code",
      "source": [
        "# # performance evaluation\n",
        "\n",
        "# import statistics\n",
        "# from nltk.translate.bleu_score import sentence_bleu\n",
        "\n",
        "# scores = []\n",
        "\n",
        "# for i in range(len(df_test)):\n",
        "#   reference = df_test['modern'].iloc[i]\n",
        "#   generated_candidate = df_test['Translated_Text'].iloc[i]\n",
        "#   scores.append(sentence_bleu(reference, generated_candidate))\n",
        "# statistics.mean(scores)"
      ],
      "metadata": {
        "id": "ayD4YZez7top"
      },
      "execution_count": null,
      "outputs": []
    },
    {
      "cell_type": "code",
      "source": [
        "def generate(\n",
        "    model,\n",
        "    tokenizer,\n",
        "    prompt,\n",
        "    entry_count=1,\n",
        "    entry_length=50,\n",
        "    top_p = 0.8,\n",
        "    temperature=1.,\n",
        "):\n",
        "\n",
        "    model.eval()\n",
        "    generated_num=0\n",
        "    generated_list=[]\n",
        "\n",
        "    filter_value = -float(\"Inf\")\n",
        "\n",
        "    with torch.no_grad():\n",
        "        for entry_idx in trange(entry_count):\n",
        "            entry_finished = False\n",
        "            generated = torch.tensor(tokenizer.encode(prompt)).unsqueeze(0)\n",
        "            for i in range(entry_length):\n",
        "                outputs = model(generated, labels=generated)\n",
        "                loss, logits = outputs[:2]\n",
        "                logits = logits[:, -1, :]/(temperature if temperature > 0 else 1.0)\n",
        "\n",
        "                sorted_logits, sorted_indices = torch.sort(logits, descending=True)\n",
        "                cumulative_probs = torch.cumsum(F.softmax(sorted_logits, dim=-1), dim=-1)\n",
        "\n",
        "                sorted_indices_to_remove = cumulative_probs > top_p\n",
        "                sorted_indices_to_remove[..., 1:] = sorted_indices_to_remove[..., :-1].clone()\n",
        "                sorted_indices_to_remove[..., 0] = 0\n",
        "\n",
        "                indices_to_remove = sorted_indices[sorted_indices_to_remove]\n",
        "                logits[:, indices_to_remove] = filter_value\n",
        "\n",
        "                next_token = torch.multinomial(F.softmax(logits, dim=-1), num_samples=1)\n",
        "                generated = torch.cat((generated, next_token), dim=-1)\n",
        "\n",
        "                if next_token in tokenizer.encode(\"<endoftext>\"):\n",
        "                    entry_finished = True\n",
        "\n",
        "                if entry_finished:\n",
        "                    generated_num = generated_num + 1\n",
        "\n",
        "                    output_list = list(generated.squeeze().numpy())\n",
        "                    output_text = tokenizer.decode(output_list)\n",
        "                    generated_list.append(output_text)\n",
        "                    break\n",
        "\n",
        "            if not entry_finished:\n",
        "                output_list = list(generated.squeeze().numpy())\n",
        "                output_text = f\"{tokenizer.decode(output_list)}<endoftext>\"\n",
        "                generated_list.append(output_text)\n",
        "\n",
        "    return generated_list[0]\n",
        "\n",
        "\n",
        "def text_generation(test_data):\n",
        "    generate_text = []\n",
        "    for i in range(len(test_data)):\n",
        "        x = generate(model.to('cpu'), tokenizer, test_data[i], entry_count=1)\n",
        "        generate_text.append(x)\n",
        "\n",
        "    return generate_text\n",
        "df_test = test_df.iloc[:100,:]\n",
        "# generated = generate(model.to('cpu'), tokenizer, test_df['original'].iloc[1], entry_count=1)\n",
        "# actual = test_df['modern'].iloc[1]\n",
        "# generated, actual\n",
        "generate_text = text_generation(df_test['original'].tolist()[-10:])"
      ],
      "metadata": {
        "colab": {
          "base_uri": "https://localhost:8080/"
        },
        "id": "Emt-jM4d7tdb",
        "outputId": "2891c59c-8fc5-42f5-90c6-22ccd1841e17"
      },
      "execution_count": null,
      "outputs": [
        {
          "output_type": "stream",
          "name": "stderr",
          "text": [
            "100%|██████████| 1/1 [00:15<00:00, 15.49s/it]\n",
            "100%|██████████| 1/1 [00:11<00:00, 11.01s/it]\n",
            "100%|██████████| 1/1 [00:10<00:00, 10.86s/it]\n",
            "100%|██████████| 1/1 [00:11<00:00, 11.84s/it]\n",
            "100%|██████████| 1/1 [00:09<00:00,  9.71s/it]\n",
            "100%|██████████| 1/1 [00:12<00:00, 12.08s/it]\n",
            "100%|██████████| 1/1 [00:21<00:00, 21.85s/it]\n",
            "100%|██████████| 1/1 [00:10<00:00, 10.85s/it]\n",
            "100%|██████████| 1/1 [00:08<00:00,  8.65s/it]\n",
            "100%|██████████| 1/1 [00:09<00:00,  9.71s/it]\n"
          ]
        }
      ]
    },
    {
      "cell_type": "code",
      "source": [
        "print(generate_text)"
      ],
      "metadata": {
        "colab": {
          "base_uri": "https://localhost:8080/"
        },
        "id": "xkK-jBNE7tKM",
        "outputId": "e1bdb2d2-d3f3-4e77-b0b1-118f83f0c020"
      },
      "execution_count": null,
      "outputs": [
        {
          "output_type": "stream",
          "name": "stdout",
          "text": [
            "['An abominable monster!\\n\\nHe had a fiendish presence that was full of pain.\\n\\nBut the only other thing he could do was insult himself.\\n\\nHe could no longer let himself be impudent and abuse himself,\\n\\nAnd with his soft voice<endoftext>', 'I’ll show thee the best springs.\\n\\n[There is no aid, nor force in our com\\xadmon business. Oh, you!\"] He does as he pleases, but with hard and sharp teeth, so he doesn’t bite into the flesh. If he goes<endoftext>', 'I’ll pluck thee berries.\\n\\nPut me out of bed, knock it off! Come back to your tree!\\n\\nGive me this time to get rid of you. Get back to your tree! Give me this time to use that life. Get back to your tree!<endoftext>', 'I’ll fish for thee and get thee wood enough.\\n\\nGrow your hatred and shame, and tell me what you shall do, To my love you. And I won’t forget your letter to me. I won’t have to look to see you. I don’t<endoftext>', 'A plague upon the tyrant that I serve!\\n\\nYou are such a wicked creature, my lord!\\n\\nYou carry such guilt for your father!\\n\\nI can take you to hell, my lord!\\n\\nI will kill you like a murderer!\\n\\nBut you, a r<endoftext>', \"A most ridiculous monster, to make a wonder of a poor drunkard.\\n\\n3. How all these are produced, to man's delight, the weaker of his bodily arts, who is far from sleeping. He also needs a good diet. Or, more jolly, can he manage himself for his own amusement, while<endoftext>\", \"I prithee now, lead the way without any more talking.— Trinculo, the king and all our company else being drowned, we will inherit here.—Here, bear my bottle.—Fellow Trinculo, we’ll fill him by and by again. \\n\\nSir Patrick d'Artagnan, the son of Count Joseph in Mercia, hath been acquainted with a nephew of one of the guests of his son.\\n\\nMadam, have you been found and escaped?— What good will you<endoftext>\", 'A howling monster, a drunken monster.\\n\\nThinking this would kill me, I conjured the following to fill my fury with wrath:—\"Well, try this, poor man, no less a murderer than I, not what it looks like. Look, thou fool, think you\\'re<endoftext>', \"O brave monster!\\n\\nThat won't save you!\\n\\nI will have to go and take him to your family!\\n\\nI'm sure he'll be getting a fair chance at a bit of fame!\\n\\nGet me out of here! Get me out<endoftext>\", 'Lead the way.\\n\\nThis is going to be a wonderful day for Scottish music. The title of the program is far from neutral. The whole thing is about how much you love Scottish music, which, in turn, counts for a lot.\\n\\nAnd what about<endoftext>']\n"
          ]
        }
      ]
    },
    {
      "cell_type": "code",
      "source": [
        "print(generate_text[1])"
      ],
      "metadata": {
        "colab": {
          "base_uri": "https://localhost:8080/"
        },
        "id": "PbVuXN6za1Wr",
        "outputId": "467529a7-d25b-432f-ec8a-30588bc03d28"
      },
      "execution_count": null,
      "outputs": [
        {
          "output_type": "stream",
          "name": "stdout",
          "text": [
            "I’ll show thee the best springs.\n",
            "\n",
            "[There is no aid, nor force in our com­mon business. Oh, you!\"] He does as he pleases, but with hard and sharp teeth, so he doesn’t bite into the flesh. If he goes<endoftext>\n"
          ]
        }
      ]
    },
    {
      "cell_type": "code",
      "source": [
        "import re\n",
        "\n",
        "def clean(text):\n",
        "  if '<end' not in text:\n",
        "    text = '. '.join(text.split('.')[:-1])\n",
        "  else:\n",
        "    text = re.sub(r'<end(oftext>)?', '.', text)\n",
        "  text = re.sub(r'[\\[\\]]', '', text)\n",
        "  return text\n",
        "\n",
        "print(clean(generate_text[4]))"
      ],
      "metadata": {
        "colab": {
          "base_uri": "https://localhost:8080/"
        },
        "id": "xSL7TmIna1TG",
        "outputId": "c207acbe-139e-43ea-8394-05ca8441bba3"
      },
      "execution_count": null,
      "outputs": [
        {
          "output_type": "stream",
          "name": "stdout",
          "text": [
            "A plague upon the tyrant that I serve!\n",
            "\n",
            "You are such a wicked creature, my lord!\n",
            "\n",
            "You carry such guilt for your father!\n",
            "\n",
            "I can take you to hell, my lord!\n",
            "\n",
            "I will kill you like a murderer!\n",
            "\n",
            "But you, a r.\n"
          ]
        }
      ]
    },
    {
      "cell_type": "code",
      "source": [
        "# 0, 4"
      ],
      "metadata": {
        "id": "8mjPVDqrcQab"
      },
      "execution_count": null,
      "outputs": []
    }
  ]
}